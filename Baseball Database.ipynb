{
 "cells": [
  {
   "cell_type": "code",
   "execution_count": 1,
   "metadata": {
    "deletable": false,
    "editable": false
   },
   "outputs": [],
   "source": [
    "# Initialize Otter\n",
    "import otter\n",
    "grader = otter.Notebook(\"proj2.ipynb\")"
   ]
  },
  {
   "cell_type": "markdown",
   "metadata": {},
   "source": [
    "# Project 2: Query Performance\n",
    "## Due Date: Friday 10/07, 11:59 PM\n",
    "## Assignment Details\n",
    "In this project, we will explore how the database system optimizes query execution and how users can futher tune the performance of their queries.\n",
    "\n",
    "This project works with the Lahman's Baseball Database, an open source collection of baseball statistics from 1871 to 2020. It contains a variety of data, like batting statistics, team stats, managerial records, Hall of Fame records, and much more.\n",
    "\n",
    "**Note:** If at any point during the project, the internal state of the database or its tables have been modified in an undesirable way (i.e. a modification not resulting from the instructions of a question), restart your kernel and clear output and simply re-run the notebook as normal. This will shutdown you current connection to the database, which will prevent the issue of multiple connections to the database at any given point, and when re-running the notebook you will create a fresh database based on the provided Postgres dump.\n",
    "\n",
    "## Logistics & Scoring Breakdown\n",
    "\n",
    "For Data 101 students, this project is worth 15% of your grade. For Info 258 students, this project is worth 12% of your grade.\n",
    "\n",
    "- Each coding question has **both public tests and hidden tests**. Roughly 50% of your coding grade will be made up of your score on the public tests released to you, while the remaining 50% will be made up of unreleased hidden tests.\n",
    "- Public tests for multiple choice questions are for sanity check only (e.g. you are answering in the correct format). Partial credit will be awarded.\n",
    "- Free-response questions will be manually graded. Please answer thoughtfully in complete sentences, drawing from knowledge in lectures and from your inspection of query plans.\n",
    "\n",
    "This is an **individual project**. However, you’re welcome to collaborate with any other student in the class as long as it’s within the academic honesty guidelines.\n",
    "\n",
    "Question | Points\n",
    "--- | ---\n",
    "0 | 1\n",
    "1a\t| 1\n",
    "1bi\t| 1\n",
    "1bii\t| 2\n",
    "1c\t| 1\n",
    "1di\t| 2\n",
    "1dii\t| 1\n",
    "1ei\t| 1\n",
    "1eii\t| 1\n",
    "1eiii\t| 1\n",
    "1eiv\t| 2\n",
    "1ev\t| 2\n",
    "2a\t| 1\n",
    "2b\t| 1\n",
    "2c\t| 2\n",
    "2d\t| 2\n",
    "3a\t| 1\n",
    "3b\t| 1\n",
    "3c |\t1\n",
    "3d\t| 3\n",
    "4a\t| 2\n",
    "4b\t| 1\n",
    "4c\t| 1\n",
    "4di\t| 2\n",
    "4dii |\t2\n",
    "4ei\t| 2\n",
    "4eii | \t1\n",
    "4eiii |\t2\n",
    "4eiv |\t1\n",
    "4ev |\t1\n",
    "4evi |\t2\n",
    "4evii |\t2\n",
    "5a | 2\n",
    "5b | 2\n",
    "5c | 1\n",
    "5d | 2\n",
    "6a | 2\n",
    "6b | 1\n",
    "6c | 1\n",
    "6d | 2\n",
    "6e | 2\n",
    "7a | 1\n",
    "7b | 1\n",
    "7c | 2\n",
    "8  | 6\n",
    "**Total** | 72"
   ]
  },
  {
   "cell_type": "code",
   "execution_count": 2,
   "metadata": {},
   "outputs": [],
   "source": [
    "# Run this cell to set up imports\n",
    "import numpy as np\n",
    "import pandas as pd"
   ]
  },
  {
   "cell_type": "markdown",
   "metadata": {},
   "source": [
    "## Getting Connected\n",
    "Similar to Project 1, we will be using the `ipython-sql` library to connect this notebook to a PostgreSQL database server on your JupyterHub account. Run the following cell to initiate the connection."
   ]
  },
  {
   "cell_type": "code",
   "execution_count": 3,
   "metadata": {},
   "outputs": [],
   "source": [
    "%reload_ext sql\n",
    "%sql postgresql://jovyan@127.0.0.1:5432/postgres"
   ]
  },
  {
   "cell_type": "markdown",
   "metadata": {},
   "source": [
    "## Setting up the Database\n",
    "The following cell will create the `baseball` database (if needed), unzip the Postgres dump of the Lahman's Baseball Database, populate the `baseball` database with the desired tables and data, and finally display all databases associated with the Postgres instance. After running the cell, you should see the `baseball` database in the generated list of databases outputted by `%sql \\l`.\n",
    "\n",
    "**Note:** If you run into the **role does not exist** error, feel free to ignore it. It does not affect data import."
   ]
  },
  {
   "cell_type": "code",
   "execution_count": 4,
   "metadata": {},
   "outputs": [
    {
     "name": "stdout",
     "output_type": "stream",
     "text": [
      "DROP DATABASE\n",
      "CREATE DATABASE\n",
      "SET\n",
      "SET\n",
      "SET\n",
      "SET\n",
      " set_config \n",
      "------------\n",
      " \n",
      "(1 row)\n",
      "\n",
      "SET\n",
      "SET\n",
      "SET\n",
      "CREATE EXTENSION\n",
      "COMMENT\n",
      "SET\n",
      "CREATE TABLE\n",
      "psql:<stdin>:49: ERROR:  role \"postgres\" does not exist\n",
      "CREATE TABLE\n",
      "psql:<stdin>:80: ERROR:  role \"postgres\" does not exist\n",
      "CREATE TABLE\n",
      "psql:<stdin>:96: ERROR:  role \"postgres\" does not exist\n",
      "CREATE TABLE\n",
      "psql:<stdin>:112: ERROR:  role \"postgres\" does not exist\n",
      "CREATE TABLE\n",
      "psql:<stdin>:129: ERROR:  role \"postgres\" does not exist\n",
      "CREATE TABLE\n",
      "psql:<stdin>:146: ERROR:  role \"postgres\" does not exist\n",
      "CREATE TABLE\n",
      "psql:<stdin>:178: ERROR:  role \"postgres\" does not exist\n",
      "CREATE TABLE\n",
      "psql:<stdin>:210: ERROR:  role \"postgres\" does not exist\n",
      "CREATE TABLE\n",
      "psql:<stdin>:223: ERROR:  role \"postgres\" does not exist\n",
      "CREATE TABLE\n",
      "psql:<stdin>:251: ERROR:  role \"postgres\" does not exist\n",
      "CREATE TABLE\n",
      "psql:<stdin>:267: ERROR:  role \"postgres\" does not exist\n",
      "CREATE TABLE\n",
      "psql:<stdin>:295: ERROR:  role \"postgres\" does not exist\n",
      "CREATE TABLE\n",
      "psql:<stdin>:322: ERROR:  role \"postgres\" does not exist\n",
      "CREATE TABLE\n",
      "psql:<stdin>:341: ERROR:  role \"postgres\" does not exist\n",
      "CREATE TABLE\n",
      "psql:<stdin>:360: ERROR:  role \"postgres\" does not exist\n",
      "CREATE TABLE\n",
      "psql:<stdin>:380: ERROR:  role \"postgres\" does not exist\n",
      "CREATE TABLE\n",
      "psql:<stdin>:400: ERROR:  role \"postgres\" does not exist\n",
      "CREATE TABLE\n",
      "psql:<stdin>:416: ERROR:  role \"postgres\" does not exist\n",
      "CREATE TABLE\n",
      "psql:<stdin>:450: ERROR:  role \"postgres\" does not exist\n",
      "CREATE TABLE\n",
      "psql:<stdin>:490: ERROR:  role \"postgres\" does not exist\n",
      "CREATE TABLE\n",
      "psql:<stdin>:530: ERROR:  role \"postgres\" does not exist\n",
      "CREATE TABLE\n",
      "psql:<stdin>:545: ERROR:  role \"postgres\" does not exist\n",
      "CREATE TABLE\n",
      "psql:<stdin>:560: ERROR:  role \"postgres\" does not exist\n",
      "CREATE TABLE\n",
      "psql:<stdin>:579: ERROR:  role \"postgres\" does not exist\n",
      "CREATE TABLE\n",
      "psql:<stdin>:637: ERROR:  role \"postgres\" does not exist\n",
      "CREATE TABLE\n",
      "psql:<stdin>:651: ERROR:  role \"postgres\" does not exist\n",
      "CREATE TABLE\n",
      "psql:<stdin>:671: ERROR:  role \"postgres\" does not exist\n",
      "COPY 5219\n",
      "COPY 104256\n",
      "COPY 179\n",
      "COPY 6236\n",
      "COPY 425\n",
      "COPY 6879\n",
      "COPY 104324\n",
      "COPY 13943\n",
      "COPY 17350\n",
      "COPY 138838\n",
      "COPY 12028\n",
      "COPY 31955\n",
      "COPY 13110\n",
      "COPY 4191\n",
      "COPY 3040\n",
      "COPY 3469\n",
      "COPY 93\n",
      "COPY 252\n",
      "COPY 19370\n",
      "COPY 45806\n",
      "COPY 5445\n",
      "COPY 26428\n",
      "COPY 1207\n",
      "COPY 325\n",
      "COPY 2865\n",
      "COPY 120\n",
      "COPY 52\n",
      "ALTER TABLE\n",
      "ALTER TABLE\n",
      "ALTER TABLE\n",
      "ALTER TABLE\n",
      "ALTER TABLE\n",
      "ALTER TABLE\n",
      "ALTER TABLE\n",
      "ALTER TABLE\n",
      "ALTER TABLE\n",
      "ALTER TABLE\n",
      "ALTER TABLE\n",
      "ALTER TABLE\n",
      "ALTER TABLE\n",
      "ALTER TABLE\n",
      "ALTER TABLE\n",
      "ALTER TABLE\n",
      "ALTER TABLE\n",
      "ALTER TABLE\n",
      "ALTER TABLE\n",
      "ALTER TABLE\n",
      "ALTER TABLE\n",
      "ALTER TABLE\n",
      "ALTER TABLE\n",
      "ALTER TABLE\n",
      "ALTER TABLE\n",
      "ALTER TABLE\n",
      "SET\n",
      " * postgresql://jovyan@127.0.0.1:5432/postgres\n",
      "6 rows affected.\n"
     ]
    },
    {
     "data": {
      "text/html": [
       "<table>\n",
       "    <tr>\n",
       "        <th>Name</th>\n",
       "        <th>Owner</th>\n",
       "        <th>Encoding</th>\n",
       "        <th>Collate</th>\n",
       "        <th>Ctype</th>\n",
       "        <th>Access privileges</th>\n",
       "    </tr>\n",
       "    <tr>\n",
       "        <td>baseball</td>\n",
       "        <td>jovyan</td>\n",
       "        <td>UTF8</td>\n",
       "        <td>en_US.utf8</td>\n",
       "        <td>en_US.utf8</td>\n",
       "        <td>None</td>\n",
       "    </tr>\n",
       "    <tr>\n",
       "        <td>imdb</td>\n",
       "        <td>jovyan</td>\n",
       "        <td>UTF8</td>\n",
       "        <td>en_US.utf8</td>\n",
       "        <td>en_US.utf8</td>\n",
       "        <td>None</td>\n",
       "    </tr>\n",
       "    <tr>\n",
       "        <td>jovyan</td>\n",
       "        <td>jovyan</td>\n",
       "        <td>UTF8</td>\n",
       "        <td>en_US.utf8</td>\n",
       "        <td>en_US.utf8</td>\n",
       "        <td>None</td>\n",
       "    </tr>\n",
       "    <tr>\n",
       "        <td>postgres</td>\n",
       "        <td>jovyan</td>\n",
       "        <td>UTF8</td>\n",
       "        <td>en_US.utf8</td>\n",
       "        <td>en_US.utf8</td>\n",
       "        <td>None</td>\n",
       "    </tr>\n",
       "    <tr>\n",
       "        <td>template0</td>\n",
       "        <td>jovyan</td>\n",
       "        <td>UTF8</td>\n",
       "        <td>en_US.utf8</td>\n",
       "        <td>en_US.utf8</td>\n",
       "        <td>=c/jovyan<br>jovyan=CTc/jovyan</td>\n",
       "    </tr>\n",
       "    <tr>\n",
       "        <td>template1</td>\n",
       "        <td>jovyan</td>\n",
       "        <td>UTF8</td>\n",
       "        <td>en_US.utf8</td>\n",
       "        <td>en_US.utf8</td>\n",
       "        <td>=c/jovyan<br>jovyan=CTc/jovyan</td>\n",
       "    </tr>\n",
       "</table>"
      ],
      "text/plain": [
       "[('baseball', 'jovyan', 'UTF8', 'en_US.utf8', 'en_US.utf8', None),\n",
       " ('imdb', 'jovyan', 'UTF8', 'en_US.utf8', 'en_US.utf8', None),\n",
       " ('jovyan', 'jovyan', 'UTF8', 'en_US.utf8', 'en_US.utf8', None),\n",
       " ('postgres', 'jovyan', 'UTF8', 'en_US.utf8', 'en_US.utf8', None),\n",
       " ('template0',\n",
       "  'jovyan',\n",
       "  'UTF8',\n",
       "  'en_US.utf8',\n",
       "  'en_US.utf8',\n",
       "  '=c/jovyan\\njovyan=CTc/jovyan'),\n",
       " ('template1',\n",
       "  'jovyan',\n",
       "  'UTF8',\n",
       "  'en_US.utf8',\n",
       "  'en_US.utf8',\n",
       "  '=c/jovyan\\njovyan=CTc/jovyan')]"
      ]
     },
     "execution_count": 4,
     "metadata": {},
     "output_type": "execute_result"
    }
   ],
   "source": [
    "!psql -h localhost -c 'DROP DATABASE IF EXISTS baseball'\n",
    "!psql -h localhost -c 'CREATE DATABASE baseball'\n",
    "!gzip -dc data/lahman.pgdump.gz | psql -h localhost -d baseball -f -\n",
    "!psql -h localhost -c 'SET max_parallel_workers_per_gather = 0;'\n",
    "%sql \\l"
   ]
  },
  {
   "cell_type": "markdown",
   "metadata": {},
   "source": [
    "Now, run the following cell to connect to the `baseball` database. There should be no errors after running the following cell."
   ]
  },
  {
   "cell_type": "code",
   "execution_count": 5,
   "metadata": {},
   "outputs": [],
   "source": [
    "%sql postgresql://jovyan@127.0.0.1:5432/baseball"
   ]
  },
  {
   "cell_type": "markdown",
   "metadata": {},
   "source": [
    "To ensure that the connection to the database has been established, let's try grabbing the first 5 rows from the `halloffame` table."
   ]
  },
  {
   "cell_type": "code",
   "execution_count": 6,
   "metadata": {},
   "outputs": [
    {
     "name": "stdout",
     "output_type": "stream",
     "text": [
      " * postgresql://jovyan@127.0.0.1:5432/baseball\n",
      "   postgresql://jovyan@127.0.0.1:5432/postgres\n",
      "5 rows affected.\n"
     ]
    },
    {
     "data": {
      "text/html": [
       "<table>\n",
       "    <tr>\n",
       "        <th>playerid</th>\n",
       "        <th>yearid</th>\n",
       "        <th>votedby</th>\n",
       "        <th>ballots</th>\n",
       "        <th>needed</th>\n",
       "        <th>votes</th>\n",
       "        <th>inducted</th>\n",
       "        <th>category</th>\n",
       "        <th>needed_note</th>\n",
       "    </tr>\n",
       "    <tr>\n",
       "        <td>cobbty01</td>\n",
       "        <td>1936</td>\n",
       "        <td>BBWAA</td>\n",
       "        <td>226</td>\n",
       "        <td>170</td>\n",
       "        <td>222</td>\n",
       "        <td>Y</td>\n",
       "        <td>Player</td>\n",
       "        <td>None</td>\n",
       "    </tr>\n",
       "    <tr>\n",
       "        <td>ruthba01</td>\n",
       "        <td>1936</td>\n",
       "        <td>BBWAA</td>\n",
       "        <td>226</td>\n",
       "        <td>170</td>\n",
       "        <td>215</td>\n",
       "        <td>Y</td>\n",
       "        <td>Player</td>\n",
       "        <td>None</td>\n",
       "    </tr>\n",
       "    <tr>\n",
       "        <td>wagneho01</td>\n",
       "        <td>1936</td>\n",
       "        <td>BBWAA</td>\n",
       "        <td>226</td>\n",
       "        <td>170</td>\n",
       "        <td>215</td>\n",
       "        <td>Y</td>\n",
       "        <td>Player</td>\n",
       "        <td>None</td>\n",
       "    </tr>\n",
       "    <tr>\n",
       "        <td>mathech01</td>\n",
       "        <td>1936</td>\n",
       "        <td>BBWAA</td>\n",
       "        <td>226</td>\n",
       "        <td>170</td>\n",
       "        <td>205</td>\n",
       "        <td>Y</td>\n",
       "        <td>Player</td>\n",
       "        <td>None</td>\n",
       "    </tr>\n",
       "    <tr>\n",
       "        <td>johnswa01</td>\n",
       "        <td>1936</td>\n",
       "        <td>BBWAA</td>\n",
       "        <td>226</td>\n",
       "        <td>170</td>\n",
       "        <td>189</td>\n",
       "        <td>Y</td>\n",
       "        <td>Player</td>\n",
       "        <td>None</td>\n",
       "    </tr>\n",
       "</table>"
      ],
      "text/plain": [
       "[('cobbty01', 1936, 'BBWAA', 226, 170, 222, 'Y', 'Player', None),\n",
       " ('ruthba01', 1936, 'BBWAA', 226, 170, 215, 'Y', 'Player', None),\n",
       " ('wagneho01', 1936, 'BBWAA', 226, 170, 215, 'Y', 'Player', None),\n",
       " ('mathech01', 1936, 'BBWAA', 226, 170, 205, 'Y', 'Player', None),\n",
       " ('johnswa01', 1936, 'BBWAA', 226, 170, 189, 'Y', 'Player', None)]"
      ]
     },
     "execution_count": 6,
     "metadata": {},
     "output_type": "execute_result"
    }
   ],
   "source": [
    "%%sql\n",
    "SELECT * FROM halloffame LIMIT 5"
   ]
  },
  {
   "cell_type": "markdown",
   "metadata": {},
   "source": [
    "Run the following cell for grading purposes."
   ]
  },
  {
   "cell_type": "code",
   "execution_count": 7,
   "metadata": {},
   "outputs": [],
   "source": [
    "!mkdir -p results"
   ]
  },
  {
   "cell_type": "markdown",
   "metadata": {},
   "source": [
    "## Table Descriptions\n",
    "In its entirety the Lahman's Baseball Database contains 27 tables containing a variety of statistics for players, teams, games, schools, etc. For simplicity, this project will focus on a subset of the tables:\n",
    "* `appearances`: details on the positions each player appeared at\n",
    "* `batting`: batting statistics for each player\n",
    "* `collegeplaying`: list of players and the colleges they attended\n",
    "* `halloffame`: Hall of Fame voting data\n",
    "* `people`: player information (name, date of birth, and biographical info)\n",
    "* `salaries`: player salary data\n",
    "* `schools`: list of colleges that players attended\n",
    "\n",
    "As a reminder from Project 1, `%sql \\d <table_name>` is helpful for identifying the columns in a table."
   ]
  },
  {
   "cell_type": "markdown",
   "metadata": {
    "deletable": false,
    "editable": false
   },
   "source": [
    "## Question 0: PostgreSQL Explain Analyze\n",
    "**Please read through this section carefully, as a vast majority of the project will require you to inspect query plans via interpreting the output of the explain analyze command.**\n",
    "\n",
    "To inspect the query plan for a given query, create a variable storing the query as a string and invoke a `psql` shell command to `explain analyze` the query: \n",
    "\n",
    "`your_variable = \"__REPLACE_ME_WITH_QUERY__\"`\n",
    "\n",
    "`!psql -h localhost -d baseball -c \"explain analyze $your_variable\"`\n",
    "\n",
    "Take a look at the following sample query plan.\n",
    "\n",
    "![title](data/sample_query.png)\n",
    "\n",
    "It is highly recommended to read through [this article](https://www.cybertec-postgresql.com/en/how-to-interpret-postgresql-explain-analyze-output/) to see how you can interpret the output above. Everything before \"Tools to interpret Explain Analyze output\" is useful.\n",
    "\n",
    "Here are some key things to note:\n",
    "- There are two cost values: the first is the **startup cost** (cost to return the first row) and the second is the **total cost** (cost to return all rows).\n",
    "- The unit for the estimated query cost is arbitrary (1 is the cost for reading an 8kB page during a sequential scan)\n",
    "- When we ask you to identify the query cost, we are looking for the **total cost**\n",
    "- When we ask you to identify the query time, we are looking for the **execution time** (in ms)\n",
    "- Feel free to round the query cost / time to the nearest integer, but we'll accept anything more exact\n",
    "- We recognzie that the execution time may vary between different cell executions, so the autograder will tolerate a reasonable range\n",
    "\n",
    "Now, inspect the query plan above, and record the **cost** and **time** for the sample query.\n",
    "\n",
    "<!--\n",
    "BEGIN QUESTION\n",
    "name: q0\n",
    "points: 1\n",
    "-->"
   ]
  },
  {
   "cell_type": "code",
   "execution_count": 8,
   "metadata": {},
   "outputs": [],
   "source": [
    "sample_query_cost = 1193\n",
    "sample_query_timing = 185"
   ]
  },
  {
   "cell_type": "code",
   "execution_count": 9,
   "metadata": {
    "deletable": false,
    "editable": false
   },
   "outputs": [
    {
     "data": {
      "text/html": [
       "<p><strong><pre style='display: inline;'>q0</pre></strong> passed!</p>"
      ],
      "text/plain": [
       "q0 results: All test cases passed!"
      ]
     },
     "execution_count": 9,
     "metadata": {},
     "output_type": "execute_result"
    }
   ],
   "source": [
    "grader.check(\"q0\")"
   ]
  },
  {
   "cell_type": "markdown",
   "metadata": {},
   "source": [
    "## Question 1: Queries and Views\n",
    "### Question 1a:\n",
    "Write a query that finds `namefirst`, `namelast`, `playerid` and `yearid` of all people who were successfully inducted into the Hall of Fame. **Note**: Your query should **NOT** use any sub-queries."
   ]
  },
  {
   "cell_type": "code",
   "execution_count": 10,
   "metadata": {},
   "outputs": [
    {
     "name": "stdout",
     "output_type": "stream",
     "text": [
      " * postgresql://jovyan@127.0.0.1:5432/baseball\n",
      "   postgresql://jovyan@127.0.0.1:5432/postgres\n",
      "323 rows affected.\n",
      "Returning data to local variable result_1a\n"
     ]
    }
   ],
   "source": [
    "%%sql result_1a <<\n",
    "SELECT namefirst, namelast, p.playerid, yearid\n",
    "FROM people AS p, (SELECT * FROM halloffame WHERE inducted = 'Y') AS hof \n",
    "WHERE p.playerid = hof.playerid;"
   ]
  },
  {
   "cell_type": "code",
   "execution_count": 11,
   "metadata": {},
   "outputs": [],
   "source": [
    "# Do not delete/edit this cell\n",
    "result_1a.DataFrame().sort_values(['playerid', 'yearid']).to_csv('results/result_1a.csv', index=False)"
   ]
  },
  {
   "cell_type": "code",
   "execution_count": 12,
   "metadata": {
    "deletable": false,
    "editable": false
   },
   "outputs": [
    {
     "data": {
      "text/html": [
       "<p><strong><pre style='display: inline;'>q1a</pre></strong> passed!</p>"
      ],
      "text/plain": [
       "q1a results: All test cases passed!"
      ]
     },
     "execution_count": 12,
     "metadata": {},
     "output_type": "execute_result"
    }
   ],
   "source": [
    "grader.check(\"q1a\")"
   ]
  },
  {
   "cell_type": "markdown",
   "metadata": {},
   "source": [
    "### Question 1b:\n",
    "In this question, we will compare the query you wrote in `Question 1a` against the provided query in `Question 1bi` by inspecting the query plans.\n",
    "\n",
    "#### Question 1bi: \n",
    "Inspect the query plan for `provided_query` and the query you wrote in `Question 1a`. Record the **execution time** and **cost** for each query."
   ]
  },
  {
   "cell_type": "code",
   "execution_count": 13,
   "metadata": {},
   "outputs": [
    {
     "name": "stdout",
     "output_type": "stream",
     "text": [
      " * postgresql://jovyan@127.0.0.1:5432/baseball\n",
      "   postgresql://jovyan@127.0.0.1:5432/postgres\n",
      "323 rows affected.\n",
      "Returning data to local variable provided_query\n"
     ]
    }
   ],
   "source": [
    "%%sql provided_query <<\n",
    "SELECT namefirst, namelast, p.playerid, yearid\n",
    "FROM people AS p, (SELECT * FROM halloffame WHERE inducted = 'Y') AS hof \n",
    "WHERE p.playerid = hof.playerid;"
   ]
  },
  {
   "cell_type": "code",
   "execution_count": 14,
   "metadata": {},
   "outputs": [
    {
     "name": "stdout",
     "output_type": "stream",
     "text": [
      "                                                           QUERY PLAN                                                           \r\n",
      "--------------------------------------------------------------------------------------------------------------------------------\r\n",
      " Nested Loop  (cost=0.29..262.79 rows=21 width=278) (actual time=0.096..3.175 rows=323 loops=1)\r\n",
      "   ->  Seq Scan on halloffame  (cost=0.00..96.39 rows=21 width=42) (actual time=0.039..0.827 rows=323 loops=1)\r\n",
      "         Filter: ((inducted)::text = 'Y'::text)\r\n",
      "         Rows Removed by Filter: 3868\r\n",
      "   ->  Index Scan using master_pkey on people p  (cost=0.29..7.92 rows=1 width=274) (actual time=0.007..0.007 rows=1 loops=323)\r\n",
      "         Index Cond: ((playerid)::text = (halloffame.playerid)::text)\r\n",
      " Planning Time: 0.859 ms\r\n",
      " Execution Time: 3.260 ms\r\n",
      "(8 rows)\r\n",
      "\r\n"
     ]
    }
   ],
   "source": [
    "provided_query_str = \"SELECT namefirst, namelast, p.playerid, yearid FROM people AS p, (SELECT * FROM halloffame WHERE inducted = 'Y') AS hof WHERE hof.inducted = 'Y' AND p.playerid = hof.playerid;\"\n",
    "!psql -h localhost -d baseball -c \"explain analyze $provided_query_str\""
   ]
  },
  {
   "cell_type": "code",
   "execution_count": 15,
   "metadata": {},
   "outputs": [
    {
     "name": "stdout",
     "output_type": "stream",
     "text": [
      "                                                           QUERY PLAN                                                           \r\n",
      "--------------------------------------------------------------------------------------------------------------------------------\r\n",
      " Nested Loop  (cost=0.29..262.79 rows=21 width=278) (actual time=0.056..2.663 rows=323 loops=1)\r\n",
      "   ->  Seq Scan on halloffame  (cost=0.00..96.39 rows=21 width=42) (actual time=0.022..0.718 rows=323 loops=1)\r\n",
      "         Filter: ((inducted)::text = 'Y'::text)\r\n",
      "         Rows Removed by Filter: 3868\r\n",
      "   ->  Index Scan using master_pkey on people p  (cost=0.29..7.92 rows=1 width=274) (actual time=0.005..0.005 rows=1 loops=323)\r\n",
      "         Index Cond: ((playerid)::text = (halloffame.playerid)::text)\r\n",
      " Planning Time: 0.747 ms\r\n",
      " Execution Time: 2.742 ms\r\n",
      "(8 rows)\r\n",
      "\r\n"
     ]
    }
   ],
   "source": [
    "inducted_hof_query_str = \"SELECT namefirst, namelast, p.playerid, yearid FROM people AS p, (SELECT * FROM halloffame WHERE inducted = 'Y') AS hof WHERE p.playerid = hof.playerid;\"\n",
    "!psql -h localhost -d baseball -c \"explain analyze $inducted_hof_query_str\""
   ]
  },
  {
   "cell_type": "code",
   "execution_count": 16,
   "metadata": {},
   "outputs": [],
   "source": [
    "provided_query_cost = 959\n",
    "provided_query_timing = 12.589\n",
    "your_query_cost = 959\n",
    "your_query_timing = 11.613"
   ]
  },
  {
   "cell_type": "code",
   "execution_count": 17,
   "metadata": {
    "deletable": false,
    "editable": false
   },
   "outputs": [
    {
     "data": {
      "text/html": [
       "<p><strong><pre style='display: inline;'>q1bi</pre></strong> passed!</p>"
      ],
      "text/plain": [
       "q1bi results: All test cases passed!"
      ]
     },
     "execution_count": 17,
     "metadata": {},
     "output_type": "execute_result"
    }
   ],
   "source": [
    "grader.check(\"q1bi\")"
   ]
  },
  {
   "cell_type": "markdown",
   "metadata": {
    "deletable": false,
    "editable": false
   },
   "source": [
    "#### Question 1bii:\n",
    "Given your findings from inspecting the query plans of the two queries, answer the following question. Assign the variable `q1b_part2` to a list of answer choices which are true statements.\n",
    "\n",
    "1. Consider the following statements:\n",
    "    1. Both the queries have the same cost.\n",
    "    1. The provided query has a faster execution time because it makes use of a subquery.\n",
    "    1. The query you wrote has a faster execution time because it does not make use a subquery.\n",
    "    1. The provided query has less cost because it makes use of a subquery.\n",
    "    1. The query you wrote has less cost because it does not make use a subquery.\n",
    "    1. The queries have the same output.\n",
    "    1. The queries do not have the same output.\n",
    "    \n",
    "**Note:** Your answer should look like `q1b_part2 = ['A', 'B']`\n",
    "\n",
    "<!--\n",
    "BEGIN QUESTION\n",
    "name: q1bii\n",
    "points: 2\n",
    "-->"
   ]
  },
  {
   "cell_type": "code",
   "execution_count": 18,
   "metadata": {},
   "outputs": [],
   "source": [
    "q1b_part2 = ['A', 'B']"
   ]
  },
  {
   "cell_type": "code",
   "execution_count": 19,
   "metadata": {
    "deletable": false,
    "editable": false
   },
   "outputs": [
    {
     "data": {
      "text/html": [
       "<p><strong><pre style='display: inline;'>q1bii</pre></strong> passed!</p>"
      ],
      "text/plain": [
       "q1bii results: All test cases passed!"
      ]
     },
     "execution_count": 19,
     "metadata": {},
     "output_type": "execute_result"
    }
   ],
   "source": [
    "grader.check(\"q1bii\")"
   ]
  },
  {
   "cell_type": "markdown",
   "metadata": {},
   "source": [
    "### Question 1c:\n",
    "Write a query that creates a view named `inducted_hof_ca` of the people who were successfully inducted into the Hall of Fame and played in college at a school located in California. For each player, return their `namefirst`, `namelast`, `playerid`, `schoolid`, and `yearid` ordered by the `yearid` and then the `playerid`. \n",
    "\n",
    "**Note**: For this query, `yearid` refers to player's year of induction into the Hall of Fame."
   ]
  },
  {
   "cell_type": "code",
   "execution_count": 20,
   "metadata": {
    "scrolled": true
   },
   "outputs": [
    {
     "name": "stdout",
     "output_type": "stream",
     "text": [
      " * postgresql://jovyan@127.0.0.1:5432/baseball\n",
      "   postgresql://jovyan@127.0.0.1:5432/postgres\n",
      "Done.\n",
      "Done.\n"
     ]
    },
    {
     "data": {
      "text/plain": [
       "[]"
      ]
     },
     "execution_count": 20,
     "metadata": {},
     "output_type": "execute_result"
    }
   ],
   "source": [
    "%%sql DROP VIEW IF EXISTS ca_schools;\n",
    "CREATE VIEW ca_schools AS\n",
    "SELECT * FROM schools WHERE schoolstate = 'CA'; "
   ]
  },
  {
   "cell_type": "code",
   "execution_count": 21,
   "metadata": {},
   "outputs": [
    {
     "name": "stdout",
     "output_type": "stream",
     "text": [
      " * postgresql://jovyan@127.0.0.1:5432/baseball\n",
      "   postgresql://jovyan@127.0.0.1:5432/postgres\n",
      "Done.\n",
      "Done.\n"
     ]
    },
    {
     "data": {
      "text/plain": [
       "[]"
      ]
     },
     "execution_count": 21,
     "metadata": {},
     "output_type": "execute_result"
    }
   ],
   "source": [
    "%%sql DROP VIEW IF EXISTS ca_players;\n",
    "CREATE VIEW ca_players AS\n",
    "SELECT playerid, collegeplaying.schoolid FROM collegeplaying, ca_schools WHERE collegeplaying.schoolid = ca_schools.schoolid; "
   ]
  },
  {
   "cell_type": "code",
   "execution_count": 22,
   "metadata": {},
   "outputs": [
    {
     "name": "stdout",
     "output_type": "stream",
     "text": [
      " * postgresql://jovyan@127.0.0.1:5432/baseball\n",
      "   postgresql://jovyan@127.0.0.1:5432/postgres\n",
      "20 rows affected.\n"
     ]
    },
    {
     "data": {
      "text/html": [
       "<table>\n",
       "    <tr>\n",
       "        <th>playerid</th>\n",
       "        <th>schoolid</th>\n",
       "    </tr>\n",
       "    <tr>\n",
       "        <td>abbotky01</td>\n",
       "        <td>ucsd</td>\n",
       "    </tr>\n",
       "    <tr>\n",
       "        <td>abbotky01</td>\n",
       "        <td>ucsd</td>\n",
       "    </tr>\n",
       "    <tr>\n",
       "        <td>abbotky01</td>\n",
       "        <td>longbeach</td>\n",
       "    </tr>\n",
       "    <tr>\n",
       "        <td>adamsbo04</td>\n",
       "        <td>ucla</td>\n",
       "    </tr>\n",
       "    <tr>\n",
       "        <td>adamsbo04</td>\n",
       "        <td>ucla</td>\n",
       "    </tr>\n",
       "    <tr>\n",
       "        <td>adamsbo04</td>\n",
       "        <td>ucla</td>\n",
       "    </tr>\n",
       "    <tr>\n",
       "        <td>adamsjo02</td>\n",
       "        <td>cacerri</td>\n",
       "    </tr>\n",
       "    <tr>\n",
       "        <td>adamsmi01</td>\n",
       "        <td>usc</td>\n",
       "    </tr>\n",
       "    <tr>\n",
       "        <td>adamswi02</td>\n",
       "        <td>stanford</td>\n",
       "    </tr>\n",
       "    <tr>\n",
       "        <td>adamswi02</td>\n",
       "        <td>stanford</td>\n",
       "    </tr>\n",
       "    <tr>\n",
       "        <td>adamswi02</td>\n",
       "        <td>stanford</td>\n",
       "    </tr>\n",
       "    <tr>\n",
       "        <td>afenitr01</td>\n",
       "        <td>capalom</td>\n",
       "    </tr>\n",
       "    <tr>\n",
       "        <td>afenitr01</td>\n",
       "        <td>capalom</td>\n",
       "    </tr>\n",
       "    <tr>\n",
       "        <td>ahearpa01</td>\n",
       "        <td>pepperdine</td>\n",
       "    </tr>\n",
       "    <tr>\n",
       "        <td>ahearpa01</td>\n",
       "        <td>pepperdine</td>\n",
       "    </tr>\n",
       "    <tr>\n",
       "        <td>akerja01</td>\n",
       "        <td>casequo</td>\n",
       "    </tr>\n",
       "    <tr>\n",
       "        <td>albrija01</td>\n",
       "        <td>california</td>\n",
       "    </tr>\n",
       "    <tr>\n",
       "        <td>albrija01</td>\n",
       "        <td>california</td>\n",
       "    </tr>\n",
       "    <tr>\n",
       "        <td>albrija01</td>\n",
       "        <td>california</td>\n",
       "    </tr>\n",
       "    <tr>\n",
       "        <td>aldremi01</td>\n",
       "        <td>stanford</td>\n",
       "    </tr>\n",
       "</table>"
      ],
      "text/plain": [
       "[('abbotky01', 'ucsd'),\n",
       " ('abbotky01', 'ucsd'),\n",
       " ('abbotky01', 'longbeach'),\n",
       " ('adamsbo04', 'ucla'),\n",
       " ('adamsbo04', 'ucla'),\n",
       " ('adamsbo04', 'ucla'),\n",
       " ('adamsjo02', 'cacerri'),\n",
       " ('adamsmi01', 'usc'),\n",
       " ('adamswi02', 'stanford'),\n",
       " ('adamswi02', 'stanford'),\n",
       " ('adamswi02', 'stanford'),\n",
       " ('afenitr01', 'capalom'),\n",
       " ('afenitr01', 'capalom'),\n",
       " ('ahearpa01', 'pepperdine'),\n",
       " ('ahearpa01', 'pepperdine'),\n",
       " ('akerja01', 'casequo'),\n",
       " ('albrija01', 'california'),\n",
       " ('albrija01', 'california'),\n",
       " ('albrija01', 'california'),\n",
       " ('aldremi01', 'stanford')]"
      ]
     },
     "execution_count": 22,
     "metadata": {},
     "output_type": "execute_result"
    }
   ],
   "source": [
    "%sql SELECT * from ca_players LIMIT 20; "
   ]
  },
  {
   "cell_type": "code",
   "execution_count": 23,
   "metadata": {
    "scrolled": false
   },
   "outputs": [
    {
     "name": "stdout",
     "output_type": "stream",
     "text": [
      " * postgresql://jovyan@127.0.0.1:5432/baseball\n",
      "   postgresql://jovyan@127.0.0.1:5432/postgres\n",
      "Done.\n",
      "Done.\n"
     ]
    },
    {
     "data": {
      "text/plain": [
       "[]"
      ]
     },
     "execution_count": 23,
     "metadata": {},
     "output_type": "execute_result"
    }
   ],
   "source": [
    "%%sql DROP VIEW IF EXISTS x_players;\n",
    "CREATE VIEW x_players AS\n",
    "SELECT namefirst, namelast, people.playerid, schoolid FROM people, ca_players WHERE people.playerid = ca_players.playerid;  "
   ]
  },
  {
   "cell_type": "code",
   "execution_count": 24,
   "metadata": {},
   "outputs": [
    {
     "name": "stdout",
     "output_type": "stream",
     "text": [
      " * postgresql://jovyan@127.0.0.1:5432/baseball\n",
      "   postgresql://jovyan@127.0.0.1:5432/postgres\n",
      "3 rows affected.\n"
     ]
    },
    {
     "data": {
      "text/html": [
       "<table>\n",
       "    <tr>\n",
       "        <th>playerid</th>\n",
       "        <th>yearid</th>\n",
       "        <th>votedby</th>\n",
       "        <th>ballots</th>\n",
       "        <th>needed</th>\n",
       "        <th>votes</th>\n",
       "        <th>inducted</th>\n",
       "        <th>category</th>\n",
       "        <th>needed_note</th>\n",
       "    </tr>\n",
       "    <tr>\n",
       "        <td>cobbty01</td>\n",
       "        <td>1936</td>\n",
       "        <td>BBWAA</td>\n",
       "        <td>226</td>\n",
       "        <td>170</td>\n",
       "        <td>222</td>\n",
       "        <td>Y</td>\n",
       "        <td>Player</td>\n",
       "        <td>None</td>\n",
       "    </tr>\n",
       "    <tr>\n",
       "        <td>ruthba01</td>\n",
       "        <td>1936</td>\n",
       "        <td>BBWAA</td>\n",
       "        <td>226</td>\n",
       "        <td>170</td>\n",
       "        <td>215</td>\n",
       "        <td>Y</td>\n",
       "        <td>Player</td>\n",
       "        <td>None</td>\n",
       "    </tr>\n",
       "    <tr>\n",
       "        <td>wagneho01</td>\n",
       "        <td>1936</td>\n",
       "        <td>BBWAA</td>\n",
       "        <td>226</td>\n",
       "        <td>170</td>\n",
       "        <td>215</td>\n",
       "        <td>Y</td>\n",
       "        <td>Player</td>\n",
       "        <td>None</td>\n",
       "    </tr>\n",
       "</table>"
      ],
      "text/plain": [
       "[('cobbty01', 1936, 'BBWAA', 226, 170, 222, 'Y', 'Player', None),\n",
       " ('ruthba01', 1936, 'BBWAA', 226, 170, 215, 'Y', 'Player', None),\n",
       " ('wagneho01', 1936, 'BBWAA', 226, 170, 215, 'Y', 'Player', None)]"
      ]
     },
     "execution_count": 24,
     "metadata": {},
     "output_type": "execute_result"
    }
   ],
   "source": [
    "%sql SELECT * from halloffame LIMIT 3; "
   ]
  },
  {
   "cell_type": "code",
   "execution_count": 25,
   "metadata": {},
   "outputs": [
    {
     "name": "stdout",
     "output_type": "stream",
     "text": [
      " * postgresql://jovyan@127.0.0.1:5432/baseball\n",
      "   postgresql://jovyan@127.0.0.1:5432/postgres\n",
      "Done.\n",
      "Done.\n"
     ]
    },
    {
     "data": {
      "text/plain": [
       "[]"
      ]
     },
     "execution_count": 25,
     "metadata": {},
     "output_type": "execute_result"
    }
   ],
   "source": [
    "%%sql DROP VIEW IF EXISTS h_players;\n",
    "CREATE VIEW h_players AS\n",
    "SELECT playerid, yearid FROM halloffame WHERE inducted = 'Y';   "
   ]
  },
  {
   "cell_type": "code",
   "execution_count": 26,
   "metadata": {},
   "outputs": [
    {
     "name": "stdout",
     "output_type": "stream",
     "text": [
      " * postgresql://jovyan@127.0.0.1:5432/baseball\n",
      "   postgresql://jovyan@127.0.0.1:5432/postgres\n",
      "Done.\n",
      "Done.\n",
      "23 rows affected.\n",
      "Returning data to local variable result_1c\n"
     ]
    }
   ],
   "source": [
    "%%sql result_1c <<\n",
    "DROP VIEW IF EXISTS inducted_hof_ca;\n",
    "CREATE VIEW inducted_hof_ca AS\n",
    "SELECT namefirst, namelast, x_players.playerid, schoolid, h_players.yearid FROM x_players, h_players\n",
    "WHERE x_players.playerid = h_players.playerid\n",
    "ORDER BY yearid, playerid; \n",
    "\n",
    "SELECT * FROM inducted_hof_ca;"
   ]
  },
  {
   "cell_type": "code",
   "execution_count": 27,
   "metadata": {},
   "outputs": [],
   "source": [
    "# Do not delete/edit this cell\n",
    "result_1c.DataFrame().sort_values(['playerid', 'schoolid', 'yearid']).to_csv('results/result_1c.csv', index=False)"
   ]
  },
  {
   "cell_type": "code",
   "execution_count": 28,
   "metadata": {
    "deletable": false,
    "editable": false
   },
   "outputs": [
    {
     "data": {
      "text/html": [
       "<p><strong><pre style='display: inline;'>q1c</pre></strong> passed!</p>"
      ],
      "text/plain": [
       "q1c results: All test cases passed!"
      ]
     },
     "execution_count": 28,
     "metadata": {},
     "output_type": "execute_result"
    }
   ],
   "source": [
    "grader.check(\"q1c\")"
   ]
  },
  {
   "cell_type": "markdown",
   "metadata": {},
   "source": [
    "### Question 1d:\n",
    "For this question, we want to compute the count of players who were inducted into the Hall of Fame and played baseball at a college in California for each `schoolid` and `yearid` combination ordered by ascending `yearid`.\n",
    "\n",
    "#### Question 1di:\n",
    "Write two queries that accomplish this task -- one query using the view you created in the `Question 1c` and one query that does not use the view, common table expressions (CTEs), or any sub-queries."
   ]
  },
  {
   "cell_type": "code",
   "execution_count": 29,
   "metadata": {
    "scrolled": false
   },
   "outputs": [
    {
     "name": "stdout",
     "output_type": "stream",
     "text": [
      " * postgresql://jovyan@127.0.0.1:5432/baseball\n",
      "   postgresql://jovyan@127.0.0.1:5432/postgres\n",
      "13 rows affected.\n",
      "Returning data to local variable with_view\n"
     ]
    }
   ],
   "source": [
    "%%sql with_view <<\n",
    "SELECT COUNT(playerid), schoolid, yearid FROM inducted_hof_ca \n",
    "GROUP by schoolid, yearid\n",
    "ORDER BY yearid ASC;\n",
    "\n"
   ]
  },
  {
   "cell_type": "code",
   "execution_count": 30,
   "metadata": {},
   "outputs": [
    {
     "name": "stdout",
     "output_type": "stream",
     "text": [
      " * postgresql://jovyan@127.0.0.1:5432/baseball\n",
      "   postgresql://jovyan@127.0.0.1:5432/postgres\n",
      "13 rows affected.\n",
      "Returning data to local variable without_view\n"
     ]
    }
   ],
   "source": [
    "%%sql without_view <<\n",
    "SELECT COUNT(x_players.playerid), schoolid, h_players.yearid FROM x_players, h_players\n",
    "WHERE x_players.playerid = h_players.playerid\n",
    "GROUP BY schoolid, h_players.yearid\n",
    "ORDER BY yearid; "
   ]
  },
  {
   "cell_type": "code",
   "execution_count": 31,
   "metadata": {},
   "outputs": [],
   "source": [
    "# Do not delete/edit this cell\n",
    "with_view.DataFrame().sort_values(['schoolid', 'yearid']).to_csv('results/result_1di_view.csv', index=False)\n",
    "without_view.DataFrame().sort_values(['schoolid', 'yearid']).to_csv('results/result_1di_no_view.csv', index=False)"
   ]
  },
  {
   "cell_type": "code",
   "execution_count": 32,
   "metadata": {
    "deletable": false,
    "editable": false
   },
   "outputs": [
    {
     "data": {
      "text/html": [
       "<p><strong><pre style='display: inline;'>q1di</pre></strong> passed!</p>"
      ],
      "text/plain": [
       "q1di results: All test cases passed!"
      ]
     },
     "execution_count": 32,
     "metadata": {},
     "output_type": "execute_result"
    }
   ],
   "source": [
    "grader.check(\"q1di\")"
   ]
  },
  {
   "cell_type": "markdown",
   "metadata": {},
   "source": [
    "#### Question 1dii:\n",
    "Fill in your queries from `Question 1di` and inspect the query plans for the two queries. Record the execution time and cost for each query."
   ]
  },
  {
   "cell_type": "code",
   "execution_count": 33,
   "metadata": {},
   "outputs": [
    {
     "name": "stdout",
     "output_type": "stream",
     "text": [
      "                                                                                   QUERY PLAN                                                                                    \r\n",
      "---------------------------------------------------------------------------------------------------------------------------------------------------------------------------------\r\n",
      " GroupAggregate  (cost=325.73..325.75 rows=1 width=60) (actual time=5.636..5.648 rows=13 loops=1)\r\n",
      "   Group Key: inducted_hof_ca.yearid, inducted_hof_ca.schoolid\r\n",
      "   ->  Sort  (cost=325.73..325.74 rows=1 width=90) (actual time=5.629..5.632 rows=23 loops=1)\r\n",
      "         Sort Key: inducted_hof_ca.yearid, inducted_hof_ca.schoolid\r\n",
      "         Sort Method: quicksort  Memory: 26kB\r\n",
      "         ->  Subquery Scan on inducted_hof_ca  (cost=325.71..325.72 rows=1 width=90) (actual time=5.561..5.568 rows=23 loops=1)\r\n",
      "               ->  Sort  (cost=325.71..325.71 rows=1 width=326) (actual time=5.558..5.561 rows=23 loops=1)\r\n",
      "                     Sort Key: halloffame.yearid, people.playerid\r\n",
      "                     Sort Method: quicksort  Memory: 26kB\r\n",
      "                     ->  Nested Loop  (cost=0.85..325.70 rows=1 width=326) (actual time=2.152..5.515 rows=23 loops=1)\r\n",
      "                           ->  Nested Loop  (cost=0.57..319.95 rows=19 width=90) (actual time=0.391..4.973 rows=137 loops=1)\r\n",
      "                                 ->  Nested Loop  (cost=0.29..262.79 rows=21 width=80) (actual time=0.079..3.176 rows=323 loops=1)\r\n",
      "                                       ->  Seq Scan on halloffame  (cost=0.00..96.39 rows=21 width=42) (actual time=0.028..0.771 rows=323 loops=1)\r\n",
      "                                             Filter: ((inducted)::text = 'Y'::text)\r\n",
      "                                             Rows Removed by Filter: 3868\r\n",
      "                                       ->  Index Only Scan using master_pkey on people  (cost=0.29..7.92 rows=1 width=38) (actual time=0.007..0.007 rows=1 loops=323)\r\n",
      "                                             Index Cond: (playerid = (halloffame.playerid)::text)\r\n",
      "                                             Heap Fetches: 323\r\n",
      "                                 ->  Index Only Scan using collegeplaying_pkey on collegeplaying  (cost=0.29..1.85 rows=87 width=86) (actual time=0.005..0.005 rows=0 loops=323)\r\n",
      "                                       Index Cond: (playerid = (people.playerid)::text)\r\n",
      "                                       Heap Fetches: 137\r\n",
      "                           ->  Index Scan using schools_pkey on schools  (cost=0.28..0.30 rows=1 width=48) (actual time=0.004..0.004 rows=0 loops=137)\r\n",
      "                                 Index Cond: ((schoolid)::text = (collegeplaying.schoolid)::text)\r\n",
      "                                 Filter: ((schoolstate)::text = 'CA'::text)\r\n",
      "                                 Rows Removed by Filter: 1\r\n",
      " Planning Time: 1.453 ms\r\n",
      " Execution Time: 5.896 ms\r\n",
      "(27 rows)\r\n",
      "\r\n"
     ]
    }
   ],
   "source": [
    "with_view_query_str = \"SELECT COUNT(playerid), schoolid, yearid FROM inducted_hof_ca GROUP by schoolid, yearid ORDER BY yearid ASC;\"\n",
    "!psql -h localhost -d baseball -c \"explain analyze $with_view_query_str\""
   ]
  },
  {
   "cell_type": "code",
   "execution_count": 34,
   "metadata": {},
   "outputs": [
    {
     "name": "stdout",
     "output_type": "stream",
     "text": [
      "                                                                             QUERY PLAN                                                                              \r\n",
      "---------------------------------------------------------------------------------------------------------------------------------------------------------------------\r\n",
      " GroupAggregate  (cost=325.71..325.73 rows=1 width=60) (actual time=4.743..4.754 rows=13 loops=1)\r\n",
      "   Group Key: halloffame.yearid, collegeplaying.schoolid\r\n",
      "   ->  Sort  (cost=325.71..325.71 rows=1 width=90) (actual time=4.735..4.738 rows=23 loops=1)\r\n",
      "         Sort Key: halloffame.yearid, collegeplaying.schoolid\r\n",
      "         Sort Method: quicksort  Memory: 26kB\r\n",
      "         ->  Nested Loop  (cost=0.85..325.70 rows=1 width=90) (actual time=1.777..4.679 rows=23 loops=1)\r\n",
      "               ->  Nested Loop  (cost=0.57..319.95 rows=19 width=90) (actual time=0.155..4.210 rows=137 loops=1)\r\n",
      "                     ->  Nested Loop  (cost=0.29..262.79 rows=21 width=80) (actual time=0.064..2.667 rows=323 loops=1)\r\n",
      "                           ->  Seq Scan on halloffame  (cost=0.00..96.39 rows=21 width=42) (actual time=0.024..0.718 rows=323 loops=1)\r\n",
      "                                 Filter: ((inducted)::text = 'Y'::text)\r\n",
      "                                 Rows Removed by Filter: 3868\r\n",
      "                           ->  Index Only Scan using master_pkey on people  (cost=0.29..7.92 rows=1 width=38) (actual time=0.006..0.006 rows=1 loops=323)\r\n",
      "                                 Index Cond: (playerid = (halloffame.playerid)::text)\r\n",
      "                                 Heap Fetches: 323\r\n",
      "                     ->  Index Only Scan using collegeplaying_pkey on collegeplaying  (cost=0.29..1.85 rows=87 width=86) (actual time=0.004..0.004 rows=0 loops=323)\r\n",
      "                           Index Cond: (playerid = (people.playerid)::text)\r\n",
      "                           Heap Fetches: 137\r\n",
      "               ->  Index Scan using schools_pkey on schools  (cost=0.28..0.30 rows=1 width=48) (actual time=0.003..0.003 rows=0 loops=137)\r\n",
      "                     Index Cond: ((schoolid)::text = (collegeplaying.schoolid)::text)\r\n",
      "                     Filter: ((schoolstate)::text = 'CA'::text)\r\n",
      "                     Rows Removed by Filter: 1\r\n",
      " Planning Time: 1.167 ms\r\n",
      " Execution Time: 4.969 ms\r\n",
      "(23 rows)\r\n",
      "\r\n"
     ]
    }
   ],
   "source": [
    "without_view_query_str = \"SELECT COUNT(x_players.playerid), schoolid, h_players.yearid FROM x_players, h_players WHERE x_players.playerid = h_players.playerid GROUP BY schoolid, h_players.yearid ORDER BY yearid; \"\n",
    "!psql -h localhost -d baseball -c\"explain analyze $without_view_query_str\""
   ]
  },
  {
   "cell_type": "code",
   "execution_count": 35,
   "metadata": {},
   "outputs": [],
   "source": [
    "with_view_cost = 518\n",
    "with_view_timing = 14.8\n",
    "without_view_cost = 518\n",
    "without_view_timing = 6.783"
   ]
  },
  {
   "cell_type": "code",
   "execution_count": 36,
   "metadata": {
    "deletable": false,
    "editable": false
   },
   "outputs": [
    {
     "data": {
      "text/html": [
       "<p><strong><pre style='display: inline;'>q1dii</pre></strong> passed!</p>"
      ],
      "text/plain": [
       "q1dii results: All test cases passed!"
      ]
     },
     "execution_count": 36,
     "metadata": {},
     "output_type": "execute_result"
    }
   ],
   "source": [
    "grader.check(\"q1dii\")"
   ]
  },
  {
   "cell_type": "markdown",
   "metadata": {},
   "source": [
    "### Question 1e:\n",
    "#### Question 1ei:\n",
    "Now, let's try creating a materialized view named `inducted_hof_ca_mat` instead of the regular view from `Question 1c`."
   ]
  },
  {
   "cell_type": "code",
   "execution_count": 37,
   "metadata": {},
   "outputs": [
    {
     "name": "stdout",
     "output_type": "stream",
     "text": [
      " * postgresql://jovyan@127.0.0.1:5432/baseball\n",
      "   postgresql://jovyan@127.0.0.1:5432/postgres\n",
      "Done.\n",
      "23 rows affected.\n",
      "23 rows affected.\n",
      "Returning data to local variable inducted_hof_ca_materialized\n"
     ]
    }
   ],
   "source": [
    "%%sql inducted_hof_ca_materialized <<\n",
    "DROP MATERIALIZED VIEW IF EXISTS inducted_hof_ca_mat;\n",
    "CREATE MATERIALIZED VIEW inducted_hof_ca_mat AS\n",
    "\n",
    "SELECT namefirst, namelast, x_players.playerid, schoolid, h_players.yearid FROM x_players, h_players\n",
    "WHERE x_players.playerid = h_players.playerid\n",
    "ORDER BY yearid, playerid;\n",
    "\n",
    "SELECT * FROM inducted_hof_ca_mat;"
   ]
  },
  {
   "cell_type": "code",
   "execution_count": 38,
   "metadata": {},
   "outputs": [],
   "source": [
    "# Do not delete/edit this cell\n",
    "inducted_hof_ca_materialized.DataFrame().sort_values(['playerid', 'schoolid', 'yearid']).to_csv('results/result_1ei.csv', index=False)"
   ]
  },
  {
   "cell_type": "code",
   "execution_count": 39,
   "metadata": {
    "deletable": false,
    "editable": false
   },
   "outputs": [
    {
     "data": {
      "text/html": [
       "<p><strong><pre style='display: inline;'>q1ei</pre></strong> passed!</p>"
      ],
      "text/plain": [
       "q1ei results: All test cases passed!"
      ]
     },
     "execution_count": 39,
     "metadata": {},
     "output_type": "execute_result"
    }
   ],
   "source": [
    "grader.check(\"q1ei\")"
   ]
  },
  {
   "cell_type": "markdown",
   "metadata": {},
   "source": [
    "#### Question 1eii:\n",
    "\n",
    "Now, rewrite the query from `Question 1d` to use the materialized view `inducted_hof_ca_mat`."
   ]
  },
  {
   "cell_type": "code",
   "execution_count": 40,
   "metadata": {},
   "outputs": [
    {
     "name": "stdout",
     "output_type": "stream",
     "text": [
      " * postgresql://jovyan@127.0.0.1:5432/baseball\n",
      "   postgresql://jovyan@127.0.0.1:5432/postgres\n",
      "13 rows affected.\n",
      "Returning data to local variable with_materialized_view\n"
     ]
    }
   ],
   "source": [
    "%%sql with_materialized_view <<\n",
    "\n",
    "SELECT COUNT(playerid), schoolid, yearid FROM inducted_hof_ca _mat\n",
    "GROUP by schoolid, yearid\n",
    "ORDER BY yearid ASC;"
   ]
  },
  {
   "cell_type": "code",
   "execution_count": 41,
   "metadata": {},
   "outputs": [],
   "source": [
    "# Do not delete/edit this cell\n",
    "with_materialized_view.DataFrame().sort_values(['schoolid', 'yearid']).to_csv('results/result_1eii.csv', index=False)"
   ]
  },
  {
   "cell_type": "code",
   "execution_count": 42,
   "metadata": {
    "deletable": false,
    "editable": false
   },
   "outputs": [
    {
     "data": {
      "text/html": [
       "<p><strong><pre style='display: inline;'>q1eii</pre></strong> passed!</p>"
      ],
      "text/plain": [
       "q1eii results: All test cases passed!"
      ]
     },
     "execution_count": 42,
     "metadata": {},
     "output_type": "execute_result"
    }
   ],
   "source": [
    "grader.check(\"q1eii\")"
   ]
  },
  {
   "cell_type": "markdown",
   "metadata": {},
   "source": [
    "#### Question 1eiii:\n",
    "Inspect the query plan and record the execution time and cost of the query that uses the materialized view."
   ]
  },
  {
   "cell_type": "code",
   "execution_count": 43,
   "metadata": {},
   "outputs": [
    {
     "name": "stdout",
     "output_type": "stream",
     "text": [
      "                                                                                   QUERY PLAN                                                                                    \r\n",
      "---------------------------------------------------------------------------------------------------------------------------------------------------------------------------------\r\n",
      " GroupAggregate  (cost=325.73..325.75 rows=1 width=60) (actual time=4.878..4.894 rows=13 loops=1)\r\n",
      "   Group Key: _mat.yearid, _mat.schoolid\r\n",
      "   ->  Sort  (cost=325.73..325.74 rows=1 width=90) (actual time=4.869..4.872 rows=23 loops=1)\r\n",
      "         Sort Key: _mat.yearid, _mat.schoolid\r\n",
      "         Sort Method: quicksort  Memory: 26kB\r\n",
      "         ->  Subquery Scan on _mat  (cost=325.71..325.72 rows=1 width=90) (actual time=4.797..4.806 rows=23 loops=1)\r\n",
      "               ->  Sort  (cost=325.71..325.71 rows=1 width=326) (actual time=4.794..4.797 rows=23 loops=1)\r\n",
      "                     Sort Key: halloffame.yearid, people.playerid\r\n",
      "                     Sort Method: quicksort  Memory: 26kB\r\n",
      "                     ->  Nested Loop  (cost=0.85..325.70 rows=1 width=326) (actual time=1.834..4.760 rows=23 loops=1)\r\n",
      "                           ->  Nested Loop  (cost=0.57..319.95 rows=19 width=90) (actual time=0.177..4.251 rows=137 loops=1)\r\n",
      "                                 ->  Nested Loop  (cost=0.29..262.79 rows=21 width=80) (actual time=0.083..2.679 rows=323 loops=1)\r\n",
      "                                       ->  Seq Scan on halloffame  (cost=0.00..96.39 rows=21 width=42) (actual time=0.027..0.667 rows=323 loops=1)\r\n",
      "                                             Filter: ((inducted)::text = 'Y'::text)\r\n",
      "                                             Rows Removed by Filter: 3868\r\n",
      "                                       ->  Index Only Scan using master_pkey on people  (cost=0.29..7.92 rows=1 width=38) (actual time=0.006..0.006 rows=1 loops=323)\r\n",
      "                                             Index Cond: (playerid = (halloffame.playerid)::text)\r\n",
      "                                             Heap Fetches: 323\r\n",
      "                                 ->  Index Only Scan using collegeplaying_pkey on collegeplaying  (cost=0.29..1.85 rows=87 width=86) (actual time=0.004..0.004 rows=0 loops=323)\r\n",
      "                                       Index Cond: (playerid = (people.playerid)::text)\r\n",
      "                                       Heap Fetches: 137\r\n",
      "                           ->  Index Scan using schools_pkey on schools  (cost=0.28..0.30 rows=1 width=48) (actual time=0.003..0.003 rows=0 loops=137)\r\n",
      "                                 Index Cond: ((schoolid)::text = (collegeplaying.schoolid)::text)\r\n",
      "                                 Filter: ((schoolstate)::text = 'CA'::text)\r\n",
      "                                 Rows Removed by Filter: 1\r\n",
      " Planning Time: 1.302 ms\r\n",
      " Execution Time: 5.130 ms\r\n",
      "(27 rows)\r\n",
      "\r\n"
     ]
    }
   ],
   "source": [
    "with_materialized_view_query_str = \"SELECT COUNT(playerid), schoolid, yearid FROM inducted_hof_ca _mat GROUP by schoolid, yearid ORDER BY yearid ASC;\"\n",
    "!psql -h localhost -d baseball -c \"explain analyze $with_materialized_view_query_str\""
   ]
  },
  {
   "cell_type": "code",
   "execution_count": 44,
   "metadata": {},
   "outputs": [],
   "source": [
    "with_materialized_view_cost = 519\n",
    "with_materialized_view_timing = 6.077"
   ]
  },
  {
   "cell_type": "code",
   "execution_count": 45,
   "metadata": {
    "deletable": false,
    "editable": false
   },
   "outputs": [
    {
     "data": {
      "text/html": [
       "<p><strong><pre style='display: inline;'>q1eiii</pre></strong> passed!</p>"
      ],
      "text/plain": [
       "q1eiii results: All test cases passed!"
      ]
     },
     "execution_count": 45,
     "metadata": {},
     "output_type": "execute_result"
    }
   ],
   "source": [
    "grader.check(\"q1eiii\")"
   ]
  },
  {
   "cell_type": "markdown",
   "metadata": {
    "deletable": false,
    "editable": false
   },
   "source": [
    "#### Question 1eiv:\n",
    "Given your findings from inspecting the query plans, as well as your understanding of views and materialized views from lectures, answer the following question. Assign the variable `q1e_part4` to a list of all statements which are true.\n",
    "\n",
    "1. Consider the following statements:\n",
    "    1. Views will reduce the execution time and the cost of a query.\n",
    "    1. Views will reduce the execution time of a query, but not the cost.\n",
    "    1. Views will reduce the cost of a query, but not the execution time.\n",
    "    1. Materialized views reduce the execution time and the cost of a query.\n",
    "    1. Materialized views reduce the execution time, but not cost of a query.\n",
    "    1. Materialized views reduce the cost of a query, but not the execution time.\n",
    "    1. Materialized views will result in the same query plan as a query using views.\n",
    "    1. Materialized views and views take the same time to create.\n",
    "    1. Materialized views take less time to create than a view.\n",
    "    1. Materialized views take more time to create than a view.\n",
    "    \n",
    "*Note:* Your answer should look like `q1e_part4 = ['A', 'B']`\n",
    "\n",
    "<!--\n",
    "BEGIN QUESTION\n",
    "name: q1eiv\n",
    "points: 2\n",
    "-->"
   ]
  },
  {
   "cell_type": "code",
   "execution_count": 46,
   "metadata": {},
   "outputs": [],
   "source": [
    "q1e_part4 = ['D','J']"
   ]
  },
  {
   "cell_type": "code",
   "execution_count": 47,
   "metadata": {
    "deletable": false,
    "editable": false
   },
   "outputs": [
    {
     "data": {
      "text/html": [
       "<p><strong><pre style='display: inline;'>q1eiv</pre></strong> passed!</p>"
      ],
      "text/plain": [
       "q1eiv results: All test cases passed!"
      ]
     },
     "execution_count": 47,
     "metadata": {},
     "output_type": "execute_result"
    }
   ],
   "source": [
    "grader.check(\"q1eiv\")"
   ]
  },
  {
   "cell_type": "markdown",
   "metadata": {
    "deletable": false,
    "editable": false
   },
   "source": [
    "<!-- BEGIN QUESTION -->\n",
    "\n",
    "#### Question 1ev:\n",
    "\n",
    "Explain your answer to the previous part based on your knowledge from lectures, and details from the query plans (your explanation should include why you didn't choose certain options).\n",
    "\n",
    "<!--\n",
    "BEGIN QUESTION\n",
    "name: q1ev\n",
    "manual: true\n",
    "points: 2\n",
    "-->"
   ]
  },
  {
   "cell_type": "markdown",
   "metadata": {},
   "source": [
    "Once a user creates a materialized view, it is saved on the disk for future reference, however, for a simple view every time the user referes back to the view - it is regenerated causing it to take more time and increasing the cost when it is called again. A, B, C are invalid options because the cost for with view and without view is approx the same ~ 325 and each time we call either operations, all tasks are performed in the background. E, F, G these options show an inverse relation between cost and time, hence I did not select them. H and I show that aren't correct as Materialized views drastically reduce the time. "
   ]
  },
  {
   "cell_type": "markdown",
   "metadata": {},
   "source": [
    "<!-- END QUESTION -->\n",
    "\n",
    "\n",
    "\n",
    "## Question 2: Predicate Pushdown\n",
    "In this question, we will explore the impact of predicates on a query's execution, particularly inspecting when the optimizer applies predicates.\n",
    "\n",
    "### Question 2a:\n",
    "Recall the `inducted_hof_ca` created in `Question 1c`. Inspect the query plan for a query that that gets all rows from the view, and record the execution time and cost."
   ]
  },
  {
   "cell_type": "code",
   "execution_count": 48,
   "metadata": {},
   "outputs": [
    {
     "name": "stdout",
     "output_type": "stream",
     "text": [
      "                                                                          QUERY PLAN                                                                           \r\n",
      "---------------------------------------------------------------------------------------------------------------------------------------------------------------\r\n",
      " Sort  (cost=325.71..325.71 rows=1 width=326) (actual time=5.299..5.302 rows=23 loops=1)\r\n",
      "   Sort Key: halloffame.yearid, people.playerid\r\n",
      "   Sort Method: quicksort  Memory: 26kB\r\n",
      "   ->  Nested Loop  (cost=0.85..325.70 rows=1 width=326) (actual time=1.743..5.232 rows=23 loops=1)\r\n",
      "         ->  Nested Loop  (cost=0.57..319.95 rows=19 width=326) (actual time=0.152..4.704 rows=137 loops=1)\r\n",
      "               ->  Nested Loop  (cost=0.29..262.79 rows=21 width=316) (actual time=0.052..2.985 rows=323 loops=1)\r\n",
      "                     ->  Seq Scan on halloffame  (cost=0.00..96.39 rows=21 width=42) (actual time=0.024..0.768 rows=323 loops=1)\r\n",
      "                           Filter: ((inducted)::text = 'Y'::text)\r\n",
      "                           Rows Removed by Filter: 3868\r\n",
      "                     ->  Index Scan using master_pkey on people  (cost=0.29..7.92 rows=1 width=274) (actual time=0.006..0.006 rows=1 loops=323)\r\n",
      "                           Index Cond: ((playerid)::text = (halloffame.playerid)::text)\r\n",
      "               ->  Index Only Scan using collegeplaying_pkey on collegeplaying  (cost=0.29..1.85 rows=87 width=86) (actual time=0.005..0.005 rows=0 loops=323)\r\n",
      "                     Index Cond: (playerid = (people.playerid)::text)\r\n",
      "                     Heap Fetches: 137\r\n",
      "         ->  Index Scan using schools_pkey on schools  (cost=0.28..0.30 rows=1 width=48) (actual time=0.003..0.003 rows=0 loops=137)\r\n",
      "               Index Cond: ((schoolid)::text = (collegeplaying.schoolid)::text)\r\n",
      "               Filter: ((schoolstate)::text = 'CA'::text)\r\n",
      "               Rows Removed by Filter: 1\r\n",
      " Planning Time: 1.622 ms\r\n",
      " Execution Time: 5.444 ms\r\n",
      "(20 rows)\r\n",
      "\r\n"
     ]
    }
   ],
   "source": [
    "query_view_str = \"SELECT * FROM inducted_hof_ca;\"\n",
    "!psql -h localhost -d baseball -c \"explain analyze $query_view_str\""
   ]
  },
  {
   "cell_type": "code",
   "execution_count": 49,
   "metadata": {},
   "outputs": [],
   "source": [
    "query_view_cost = 527\n",
    "query_view_timing = 5.892"
   ]
  },
  {
   "cell_type": "code",
   "execution_count": 50,
   "metadata": {
    "deletable": false,
    "editable": false
   },
   "outputs": [
    {
     "data": {
      "text/html": [
       "<p><strong><pre style='display: inline;'>q2a</pre></strong> passed!</p>"
      ],
      "text/plain": [
       "q2a results: All test cases passed!"
      ]
     },
     "execution_count": 50,
     "metadata": {},
     "output_type": "execute_result"
    }
   ],
   "source": [
    "grader.check(\"q2a\")"
   ]
  },
  {
   "cell_type": "markdown",
   "metadata": {},
   "source": [
    "### Question 2b:\n",
    "Now, add a filter to only return rows from `inducted_hof_ca` where the year is later than 2010. Inspect the query plan and record the execution time and cost."
   ]
  },
  {
   "cell_type": "code",
   "execution_count": 51,
   "metadata": {},
   "outputs": [
    {
     "name": "stdout",
     "output_type": "stream",
     "text": [
      " * postgresql://jovyan@127.0.0.1:5432/baseball\n",
      "   postgresql://jovyan@127.0.0.1:5432/postgres\n",
      "8 rows affected.\n",
      "Returning data to local variable result_2b\n"
     ]
    }
   ],
   "source": [
    "%%sql result_2b <<\n",
    "SELECT * FROM inducted_hof_ca WHERE yearid > '2010';"
   ]
  },
  {
   "cell_type": "code",
   "execution_count": 52,
   "metadata": {
    "scrolled": true
   },
   "outputs": [
    {
     "name": "stdout",
     "output_type": "stream",
     "text": [
      "                                                                          QUERY PLAN                                                                          \r\n",
      "--------------------------------------------------------------------------------------------------------------------------------------------------------------\r\n",
      " Sort  (cost=185.88..185.89 rows=1 width=326) (actual time=1.376..1.379 rows=8 loops=1)\r\n",
      "   Sort Key: halloffame.yearid, people.playerid\r\n",
      "   Sort Method: quicksort  Memory: 25kB\r\n",
      "   ->  Nested Loop  (cost=0.85..185.87 rows=1 width=326) (actual time=0.659..1.329 rows=8 loops=1)\r\n",
      "         ->  Nested Loop  (cost=0.57..184.05 rows=6 width=326) (actual time=0.637..1.198 rows=27 loops=1)\r\n",
      "               ->  Nested Loop  (cost=0.29..165.00 rows=7 width=316) (actual time=0.539..0.924 rows=31 loops=1)\r\n",
      "                     ->  Seq Scan on halloffame  (cost=0.00..106.86 rows=7 width=42) (actual time=0.506..0.554 rows=31 loops=1)\r\n",
      "                           Filter: ((yearid > 2010) AND ((inducted)::text = 'Y'::text))\r\n",
      "                           Rows Removed by Filter: 4160\r\n",
      "                     ->  Index Scan using master_pkey on people  (cost=0.29..8.30 rows=1 width=274) (actual time=0.011..0.011 rows=1 loops=31)\r\n",
      "                           Index Cond: ((playerid)::text = (halloffame.playerid)::text)\r\n",
      "               ->  Index Only Scan using collegeplaying_pkey on collegeplaying  (cost=0.29..1.85 rows=87 width=86) (actual time=0.008..0.008 rows=1 loops=31)\r\n",
      "                     Index Cond: (playerid = (people.playerid)::text)\r\n",
      "                     Heap Fetches: 27\r\n",
      "         ->  Index Scan using schools_pkey on schools  (cost=0.28..0.30 rows=1 width=48) (actual time=0.004..0.004 rows=0 loops=27)\r\n",
      "               Index Cond: ((schoolid)::text = (collegeplaying.schoolid)::text)\r\n",
      "               Filter: ((schoolstate)::text = 'CA'::text)\r\n",
      "               Rows Removed by Filter: 1\r\n",
      " Planning Time: 1.437 ms\r\n",
      " Execution Time: 1.566 ms\r\n",
      "(20 rows)\r\n",
      "\r\n"
     ]
    }
   ],
   "source": [
    "query_view_with_filter_str = \"SELECT * FROM inducted_hof_ca WHERE yearid > '2010';\"\n",
    "!psql -h localhost -d baseball -c \"explain analyze $query_view_with_filter_str\""
   ]
  },
  {
   "cell_type": "code",
   "execution_count": 53,
   "metadata": {},
   "outputs": [],
   "source": [
    "query_view_with_filter_cost = 209\n",
    "query_view_with_filter_timing = 1.25"
   ]
  },
  {
   "cell_type": "code",
   "execution_count": 54,
   "metadata": {
    "deletable": false,
    "editable": false
   },
   "outputs": [
    {
     "data": {
      "text/html": [
       "<p><strong><pre style='display: inline;'>q2b</pre></strong> passed!</p>"
      ],
      "text/plain": [
       "q2b results: All test cases passed!"
      ]
     },
     "execution_count": 54,
     "metadata": {},
     "output_type": "execute_result"
    }
   ],
   "source": [
    "grader.check(\"q2b\")"
   ]
  },
  {
   "cell_type": "markdown",
   "metadata": {
    "deletable": false,
    "editable": false
   },
   "source": [
    "### Question 2c:\n",
    "Given your findings from inspecting the query plans of queries from `Question 2a-b`, answer the following question. Assign the variable `q2c` to a list of all statements which are true.\n",
    "\n",
    "1. Consider the following statements:\n",
    "    1. Adding a filter lowered the cost.\n",
    "    1. Adding a filter increased the cost.\n",
    "    1. Adding a filter did not change the cost.\n",
    "    1. Adding a filter increased the execution time.\n",
    "    1. Adding a filter decreased the execution time.\n",
    "    1. Adding a filter did not change the execution time.\n",
    "    1. No statement is true.\n",
    "    \n",
    "    \n",
    "**Note:** Your answer should look like `q2c = ['A', 'B']`\n",
    "\n",
    "<!--\n",
    "BEGIN QUESTION\n",
    "name: q2c\n",
    "points: 2\n",
    "-->"
   ]
  },
  {
   "cell_type": "code",
   "execution_count": 55,
   "metadata": {},
   "outputs": [],
   "source": [
    "q2c = ['A', 'E']"
   ]
  },
  {
   "cell_type": "code",
   "execution_count": 56,
   "metadata": {
    "deletable": false,
    "editable": false
   },
   "outputs": [
    {
     "data": {
      "text/html": [
       "<p><strong><pre style='display: inline;'>q2c</pre></strong> passed!</p>"
      ],
      "text/plain": [
       "q2c results: All test cases passed!"
      ]
     },
     "execution_count": 56,
     "metadata": {},
     "output_type": "execute_result"
    }
   ],
   "source": [
    "grader.check(\"q2c\")"
   ]
  },
  {
   "cell_type": "markdown",
   "metadata": {
    "deletable": false,
    "editable": false
   },
   "source": [
    "<!-- BEGIN QUESTION -->\n",
    "\n",
    "#### Question 2d:\n",
    "\n",
    "Explain your answer based on your knowledge from lectures, and details from the query plans (your explanation should include why you didn't choose certain options).\n",
    "\n",
    "<!--\n",
    "BEGIN QUESTION\n",
    "name: q2d\n",
    "manual: true\n",
    "points: 2\n",
    "-->"
   ]
  },
  {
   "cell_type": "markdown",
   "metadata": {},
   "source": [
    "A, E: \n",
    "Applying a filter drastically reduces the time and cost as the amount of data that is being analyzed to be 'joined' is reduced. \n",
    "Other Options: Based on the cost and time, we can clearly see there is a difference due to the filter and hence ruling out the other options. "
   ]
  },
  {
   "cell_type": "markdown",
   "metadata": {},
   "source": [
    "<!-- END QUESTION -->\n",
    "\n",
    "\n",
    "\n",
    "## Question 3: Join Approaches\n",
    "\n",
    "In this question, we'll explore different join approaches (Nested Loop Join, Merge Join, Hash Join) and discuss how the query optimizer picks the best approach.\n",
    "\n",
    "### Question 3a:\n",
    "Perform an inner join on the `people` and `collegeplaying` tables on the `playerid` column. Project all columns."
   ]
  },
  {
   "cell_type": "code",
   "execution_count": 57,
   "metadata": {},
   "outputs": [
    {
     "name": "stdout",
     "output_type": "stream",
     "text": [
      " * postgresql://jovyan@127.0.0.1:5432/baseball\n",
      "   postgresql://jovyan@127.0.0.1:5432/postgres\n",
      "17350 rows affected.\n",
      "Returning data to local variable q3a_join\n"
     ]
    }
   ],
   "source": [
    "%%sql q3a_join <<\n",
    "SELECT * FROM people \n",
    "INNER JOIN collegeplaying\n",
    "ON people.playerid = collegeplaying.playerid; "
   ]
  },
  {
   "cell_type": "markdown",
   "metadata": {},
   "source": [
    "Inspect the query plan for the query you wrote above."
   ]
  },
  {
   "cell_type": "code",
   "execution_count": 58,
   "metadata": {},
   "outputs": [
    {
     "name": "stdout",
     "output_type": "stream",
     "text": [
      "                                                                         QUERY PLAN                                                                         \r\n",
      "------------------------------------------------------------------------------------------------------------------------------------------------------------\r\n",
      " Merge Join  (cost=0.57..3636.67 rows=17350 width=1788) (actual time=0.120..55.753 rows=17350 loops=1)\r\n",
      "   Merge Cond: ((people.playerid)::text = (collegeplaying.playerid)::text)\r\n",
      "   ->  Index Scan using master_pkey on people  (cost=0.29..2298.84 rows=19370 width=1698) (actual time=0.039..7.252 rows=19368 loops=1)\r\n",
      "   ->  Index Only Scan using collegeplaying_pkey on collegeplaying  (cost=0.29..1072.54 rows=17350 width=90) (actual time=0.074..29.265 rows=17350 loops=1)\r\n",
      "         Heap Fetches: 17350\r\n",
      " Planning Time: 1.046 ms\r\n",
      " Execution Time: 56.833 ms\r\n",
      "(7 rows)\r\n",
      "\r\n"
     ]
    }
   ],
   "source": [
    "q3a_query_str = \"SELECT * FROM people INNER JOIN collegeplaying ON people.playerid = collegeplaying.playerid;\"\n",
    "!psql -h localhost -d baseball -c \"explain analyze $q3a_query_str\""
   ]
  },
  {
   "cell_type": "markdown",
   "metadata": {
    "deletable": false,
    "editable": false
   },
   "source": [
    "Given your findings from inspecting the query plan, answer the following question. Assign the variable `q3a` to a list of all the options which are true for the proposed statement.\n",
    "\n",
    "1. Which join approach did the query optimizer choose?\n",
    "    1. Nested Loop Join\n",
    "    1. Merge Join\n",
    "    1. Hash Join\n",
    "    1. None of the Above\n",
    "\n",
    "**Note:** Your answer should be formatted as follows: `q3a = ['A', 'B']`\n",
    "\n",
    "<!--\n",
    "BEGIN QUESTION\n",
    "name: q3a\n",
    "points: 1\n",
    "-->"
   ]
  },
  {
   "cell_type": "code",
   "execution_count": 59,
   "metadata": {},
   "outputs": [],
   "source": [
    "q3a = ['C']"
   ]
  },
  {
   "cell_type": "code",
   "execution_count": 60,
   "metadata": {
    "deletable": false,
    "editable": false
   },
   "outputs": [
    {
     "data": {
      "text/html": [
       "<p><strong><pre style='display: inline;'>q3a</pre></strong> passed!</p>"
      ],
      "text/plain": [
       "q3a results: All test cases passed!"
      ]
     },
     "execution_count": 60,
     "metadata": {},
     "output_type": "execute_result"
    }
   ],
   "source": [
    "grader.check(\"q3a\")"
   ]
  },
  {
   "cell_type": "markdown",
   "metadata": {},
   "source": [
    "### Question 3b\n",
    "\n",
    "Similar to Question 3a, perform an inner join on the `people` and `collegeplaying` tables on the `playerid` column. Project all columns.\n",
    "\n",
    "In addition, **sort your output by `playerid`.**"
   ]
  },
  {
   "cell_type": "code",
   "execution_count": 61,
   "metadata": {},
   "outputs": [
    {
     "name": "stdout",
     "output_type": "stream",
     "text": [
      " * postgresql://jovyan@127.0.0.1:5432/baseball\n",
      "   postgresql://jovyan@127.0.0.1:5432/postgres\n",
      "17350 rows affected.\n",
      "Returning data to local variable q3b_join\n"
     ]
    }
   ],
   "source": [
    "%%sql q3b_join <<\n",
    "SELECT * FROM people \n",
    "INNER JOIN collegeplaying\n",
    "ON people.playerid = collegeplaying.playerid\n",
    "ORDER BY people.playerid; "
   ]
  },
  {
   "cell_type": "markdown",
   "metadata": {},
   "source": [
    "Inspect the query plan for the query you wrote above."
   ]
  },
  {
   "cell_type": "code",
   "execution_count": 62,
   "metadata": {},
   "outputs": [
    {
     "name": "stdout",
     "output_type": "stream",
     "text": [
      "                                                                        QUERY PLAN                                                                        \r\n",
      "----------------------------------------------------------------------------------------------------------------------------------------------------------\r\n",
      " Merge Join  (cost=0.57..3184.67 rows=17350 width=1719) (actual time=0.078..18.855 rows=17350 loops=1)\r\n",
      "   Merge Cond: ((people.playerid)::text = (collegeplaying.playerid)::text)\r\n",
      "   ->  Index Scan using master_pkey on people  (cost=0.29..2298.84 rows=19370 width=1698) (actual time=0.028..4.488 rows=19368 loops=1)\r\n",
      "   ->  Index Only Scan using collegeplaying_pkey on collegeplaying  (cost=0.29..620.54 rows=17350 width=21) (actual time=0.045..2.416 rows=17350 loops=1)\r\n",
      "         Heap Fetches: 0\r\n",
      " Planning Time: 0.845 ms\r\n",
      " Execution Time: 19.614 ms\r\n",
      "(7 rows)\r\n",
      "\r\n"
     ]
    }
   ],
   "source": [
    "q3b_query_str = \"SELECT * FROM people INNER JOIN collegeplaying ON people.playerid = collegeplaying.playerid ORDER BY people.playerid;\"\n",
    "!psql -h localhost -d baseball -c \"explain analyze $q3b_query_str\""
   ]
  },
  {
   "cell_type": "markdown",
   "metadata": {
    "deletable": false,
    "editable": false
   },
   "source": [
    "Given your findings from inspecting the query plan, answer the following question. Assign the variable `q3b` to a list of all the options which are true for the proposed statement.\n",
    "\n",
    "1. Which join approach did the query optimizer choose?\n",
    "    1. Nested Loop Join\n",
    "    1. Merge Join\n",
    "    1. Hash Join\n",
    "    1. None of the Above\n",
    "\n",
    "**Note:** Your answer should be formatted as follows: `q3b = ['A', 'B']`\n",
    "\n",
    "<!--\n",
    "BEGIN QUESTION\n",
    "name: q3b\n",
    "points: 1\n",
    "-->"
   ]
  },
  {
   "cell_type": "code",
   "execution_count": 63,
   "metadata": {},
   "outputs": [],
   "source": [
    "q3b = [\"B\"]"
   ]
  },
  {
   "cell_type": "code",
   "execution_count": 64,
   "metadata": {
    "deletable": false,
    "editable": false
   },
   "outputs": [
    {
     "data": {
      "text/html": [
       "<p><strong><pre style='display: inline;'>q3b</pre></strong> passed!</p>"
      ],
      "text/plain": [
       "q3b results: All test cases passed!"
      ]
     },
     "execution_count": 64,
     "metadata": {},
     "output_type": "execute_result"
    }
   ],
   "source": [
    "grader.check(\"q3b\")"
   ]
  },
  {
   "cell_type": "markdown",
   "metadata": {},
   "source": [
    "### Question 3c\n",
    "Write a query to retrieve all possible player pair combinations. Project all columns, but **limit to 1000 rows** to ensure your query doesn't take an exorbitant amount of time to run.\n",
    "\n",
    "**Hint:** You can do this by performing an inner join of the `people` table on itself with an inequality condition."
   ]
  },
  {
   "cell_type": "code",
   "execution_count": 65,
   "metadata": {},
   "outputs": [
    {
     "name": "stdout",
     "output_type": "stream",
     "text": [
      " * postgresql://jovyan@127.0.0.1:5432/baseball\n",
      "   postgresql://jovyan@127.0.0.1:5432/postgres\n",
      "1000 rows affected.\n",
      "Returning data to local variable q3c_join\n"
     ]
    }
   ],
   "source": [
    "%%sql q3c_join <<\n",
    "SELECT * \n",
    "FROM people as p \n",
    "INNER JOIN people ON p.playerid != people.playerid\n",
    "LIMIT 1000; "
   ]
  },
  {
   "cell_type": "markdown",
   "metadata": {},
   "source": [
    "Inspect the query plan for the query you wrote above."
   ]
  },
  {
   "cell_type": "code",
   "execution_count": 66,
   "metadata": {},
   "outputs": [
    {
     "name": "stdout",
     "output_type": "stream",
     "text": [
      "                                                         QUERY PLAN                                                          \r\n",
      "-----------------------------------------------------------------------------------------------------------------------------\r\n",
      " Limit  (cost=0.00..15.00 rows=1000 width=292) (actual time=0.034..1.025 rows=1000 loops=1)\r\n",
      "   ->  Nested Loop  (cost=0.00..5629241.33 rows=375177530 width=292) (actual time=0.033..0.955 rows=1000 loops=1)\r\n",
      "         Join Filter: ((p.playerid)::text <> (people.playerid)::text)\r\n",
      "         Rows Removed by Join Filter: 1\r\n",
      "         ->  Seq Scan on people p  (cost=0.00..619.70 rows=19370 width=146) (actual time=0.017..0.018 rows=1 loops=1)\r\n",
      "         ->  Materialize  (cost=0.00..716.55 rows=19370 width=146) (actual time=0.008..0.506 rows=1001 loops=1)\r\n",
      "               ->  Seq Scan on people  (cost=0.00..619.70 rows=19370 width=146) (actual time=0.001..0.107 rows=1001 loops=1)\r\n",
      " Planning Time: 0.871 ms\r\n",
      " Execution Time: 1.199 ms\r\n",
      "(9 rows)\r\n",
      "\r\n"
     ]
    }
   ],
   "source": [
    "q3c_query_str = \"SELECT * FROM people as p INNER JOIN people ON p.playerid != people.playerid LIMIT 1000; \"\n",
    "!psql -h localhost -d baseball -c \"explain analyze $q3c_query_str\""
   ]
  },
  {
   "cell_type": "markdown",
   "metadata": {
    "deletable": false,
    "editable": false
   },
   "source": [
    "Given your findings from inspecting the query plan, answer the following question. Assign the variable `q3c` to a list of all the options which are true for the proposed statement.\n",
    "\n",
    "1. Which join approach did the query optimizer choose?\n",
    "    1. Nested Loop Join\n",
    "    1. Merge Join\n",
    "    1. Hash Join\n",
    "    1. None of the Above\n",
    "\n",
    "**Note:** Your answer should be formatted as follows: `q3c = ['A', 'B']`\n",
    "\n",
    "<!--\n",
    "BEGIN QUESTION\n",
    "name: q3c\n",
    "points: 1\n",
    "-->"
   ]
  },
  {
   "cell_type": "code",
   "execution_count": 67,
   "metadata": {},
   "outputs": [],
   "source": [
    "q3c = ['A']"
   ]
  },
  {
   "cell_type": "code",
   "execution_count": 68,
   "metadata": {
    "deletable": false,
    "editable": false
   },
   "outputs": [
    {
     "data": {
      "text/html": [
       "<p><strong><pre style='display: inline;'>q3c</pre></strong> passed!</p>"
      ],
      "text/plain": [
       "q3c results: All test cases passed!"
      ]
     },
     "execution_count": 68,
     "metadata": {},
     "output_type": "execute_result"
    }
   ],
   "source": [
    "grader.check(\"q3c\")"
   ]
  },
  {
   "cell_type": "markdown",
   "metadata": {
    "deletable": false,
    "editable": false
   },
   "source": [
    "<!-- BEGIN QUESTION -->\n",
    "\n",
    "### Question 3d\n",
    "Please discuss your findings in the previous parts. In particular, we are interested in hearing why you think the query optimizer chooses the ultimate join approach in each of the above three scenarios. Feel free to discuss the pros and cons of each join approach as well.\n",
    "\n",
    "If you feel stuck, here are some things to consider: Does a non-equijoin constrain us to certain join approaches? What's an added benefit in regards to the output of merge join?\n",
    "\n",
    "<!--\n",
    "BEGIN QUESTION\n",
    "name: q3d\n",
    "manual: true\n",
    "points: 3\n",
    "-->"
   ]
  },
  {
   "cell_type": "markdown",
   "metadata": {},
   "source": [
    "3a: A hash join was used because that resulted in equi join and the answer did not require any sorting\n",
    "\n",
    "3b: A merge join is used because the resulting table is required in a sorted manner. \n",
    "\n",
    "3c: As we are LIMITING the result to 1000 rows and we are just targeting a smaller subset of rows, the ideal join is Nested Loop join. "
   ]
  },
  {
   "cell_type": "markdown",
   "metadata": {},
   "source": [
    "<!-- END QUESTION -->\n",
    "\n",
    "\n",
    "\n",
    "## Question 4: Indexes\n",
    "\n",
    "### Question 4a:\n",
    "Write a query that outputs the `playerid` and average `salary` for each player that only batted in 10 games (the number of games in which a player batted can be found in the `g_batting` column of the `appearances` table). Your query should join the `salaries` and `appearances` table on all the common columns `yearid`, `teamid`, and `playerid`, so feel free to use a natural join."
   ]
  },
  {
   "cell_type": "code",
   "execution_count": 69,
   "metadata": {
    "scrolled": false
   },
   "outputs": [
    {
     "name": "stdout",
     "output_type": "stream",
     "text": [
      " * postgresql://jovyan@127.0.0.1:5432/baseball\n",
      "   postgresql://jovyan@127.0.0.1:5432/postgres\n",
      "Done.\n",
      "Done.\n"
     ]
    },
    {
     "data": {
      "text/plain": [
       "[]"
      ]
     },
     "execution_count": 69,
     "metadata": {},
     "output_type": "execute_result"
    }
   ],
   "source": [
    "%%sql DROP VIEW IF EXISTS tb1;\n",
    "CREATE VIEW tb1 AS\n",
    "SELECT * FROM appearances\n",
    "NATURAL JOIN salaries; "
   ]
  },
  {
   "cell_type": "code",
   "execution_count": 70,
   "metadata": {},
   "outputs": [
    {
     "name": "stdout",
     "output_type": "stream",
     "text": [
      " * postgresql://jovyan@127.0.0.1:5432/baseball\n",
      "   postgresql://jovyan@127.0.0.1:5432/postgres\n",
      "134 rows affected.\n",
      "Returning data to local variable result_4a\n"
     ]
    }
   ],
   "source": [
    "%%sql result_4a <<\n",
    "SELECT playerid, AVG(salary) FROM tb1 WHERE g_batting = '10'\n",
    "GROUP BY playerid; "
   ]
  },
  {
   "cell_type": "code",
   "execution_count": 71,
   "metadata": {},
   "outputs": [],
   "source": [
    "# Do not delete/edit this cell\n",
    "result_4a.DataFrame().sort_values('playerid').to_csv('results/result_4a.csv', index=False)"
   ]
  },
  {
   "cell_type": "code",
   "execution_count": 72,
   "metadata": {
    "deletable": false,
    "editable": false
   },
   "outputs": [
    {
     "data": {
      "text/html": [
       "<p><strong><pre style='display: inline;'>q4ai</pre></strong> passed!</p>"
      ],
      "text/plain": [
       "q4ai results: All test cases passed!"
      ]
     },
     "execution_count": 72,
     "metadata": {},
     "output_type": "execute_result"
    }
   ],
   "source": [
    "grader.check(\"q4ai\")"
   ]
  },
  {
   "cell_type": "markdown",
   "metadata": {},
   "source": [
    "Inspect the query plan and record the execution time and cost."
   ]
  },
  {
   "cell_type": "code",
   "execution_count": 73,
   "metadata": {},
   "outputs": [
    {
     "name": "stdout",
     "output_type": "stream",
     "text": [
      "                                                                                                                     QUERY PLAN                                                                                                                     \r\n",
      "----------------------------------------------------------------------------------------------------------------------------------------------------------------------------------------------------------------------------------------------------\r\n",
      " GroupAggregate  (cost=3637.50..3637.53 rows=1 width=17) (actual time=24.453..24.526 rows=134 loops=1)\r\n",
      "   Group Key: appearances.playerid\r\n",
      "   ->  Sort  (cost=3637.50..3637.51 rows=1 width=17) (actual time=24.441..24.452 rows=138 loops=1)\r\n",
      "         Sort Key: appearances.playerid\r\n",
      "         Sort Method: quicksort  Memory: 35kB\r\n",
      "         ->  Hash Join  (cost=2900.72..3637.49 rows=1 width=17) (actual time=15.754..24.269 rows=138 loops=1)\r\n",
      "               Hash Cond: ((salaries.yearid = appearances.yearid) AND ((salaries.teamid)::text = (appearances.teamid)::text) AND ((salaries.lgid)::text = (appearances.lgid)::text) AND ((salaries.playerid)::text = (appearances.playerid)::text))\r\n",
      "               ->  Seq Scan on salaries  (cost=0.00..459.28 rows=26428 width=28) (actual time=0.013..2.139 rows=26428 loops=1)\r\n",
      "               ->  Hash  (cost=2873.20..2873.20 rows=1376 width=20) (actual time=15.531..15.533 rows=1347 loops=1)\r\n",
      "                     Buckets: 2048  Batches: 1  Memory Usage: 89kB\r\n",
      "                     ->  Seq Scan on appearances  (cost=0.00..2873.20 rows=1376 width=20) (actual time=0.012..14.900 rows=1347 loops=1)\r\n",
      "                           Filter: (g_batting = 10)\r\n",
      "                           Rows Removed by Filter: 102909\r\n",
      " Planning Time: 1.702 ms\r\n",
      " Execution Time: 24.655 ms\r\n",
      "(15 rows)\r\n",
      "\r\n"
     ]
    }
   ],
   "source": [
    "result_4a_query_str = \"SELECT playerid, AVG(salary) FROM tb1 WHERE g_batting = '10' GROUP BY playerid;\"\n",
    "!psql -h localhost -d baseball -c \"explain analyze $result_4a_query_str\""
   ]
  },
  {
   "cell_type": "code",
   "execution_count": 74,
   "metadata": {},
   "outputs": [],
   "source": [
    "result_4a_cost = 3801\n",
    "result_4a_timing = 68.502"
   ]
  },
  {
   "cell_type": "code",
   "execution_count": 75,
   "metadata": {
    "deletable": false,
    "editable": false
   },
   "outputs": [
    {
     "data": {
      "text/html": [
       "<p><strong><pre style='display: inline;'>q4aii</pre></strong> passed!</p>"
      ],
      "text/plain": [
       "q4aii results: All test cases passed!"
      ]
     },
     "execution_count": 75,
     "metadata": {},
     "output_type": "execute_result"
    }
   ],
   "source": [
    "grader.check(\"q4aii\")"
   ]
  },
  {
   "cell_type": "markdown",
   "metadata": {},
   "source": [
    "### Question 4b:\n",
    "Add an index with name `g_batting_idx` on the `g_batting` column of the `appearances` table."
   ]
  },
  {
   "cell_type": "code",
   "execution_count": 76,
   "metadata": {},
   "outputs": [
    {
     "name": "stdout",
     "output_type": "stream",
     "text": [
      " * postgresql://jovyan@127.0.0.1:5432/baseball\n",
      "   postgresql://jovyan@127.0.0.1:5432/postgres\n",
      "Done.\n",
      "Returning data to local variable result_4b\n"
     ]
    }
   ],
   "source": [
    "%%sql result_4b <<\n",
    "CREATE INDEX g_batting_idx\n",
    "ON appearances (g_batting);"
   ]
  },
  {
   "cell_type": "markdown",
   "metadata": {},
   "source": [
    "Now, re-inspect the query plan of the query from `Question 4a` and record its execution time and cost."
   ]
  },
  {
   "cell_type": "code",
   "execution_count": 77,
   "metadata": {},
   "outputs": [
    {
     "name": "stdout",
     "output_type": "stream",
     "text": [
      "                                                                                                                     QUERY PLAN                                                                                                                     \r\n",
      "----------------------------------------------------------------------------------------------------------------------------------------------------------------------------------------------------------------------------------------------------\r\n",
      " GroupAggregate  (cost=2386.96..2386.98 rows=1 width=17) (actual time=11.348..11.419 rows=134 loops=1)\r\n",
      "   Group Key: appearances.playerid\r\n",
      "   ->  Sort  (cost=2386.96..2386.96 rows=1 width=17) (actual time=11.338..11.348 rows=138 loops=1)\r\n",
      "         Sort Key: appearances.playerid\r\n",
      "         Sort Method: quicksort  Memory: 35kB\r\n",
      "         ->  Hash Join  (cost=1650.17..2386.95 rows=1 width=17) (actual time=2.973..11.166 rows=138 loops=1)\r\n",
      "               Hash Cond: ((salaries.yearid = appearances.yearid) AND ((salaries.teamid)::text = (appearances.teamid)::text) AND ((salaries.lgid)::text = (appearances.lgid)::text) AND ((salaries.playerid)::text = (appearances.playerid)::text))\r\n",
      "               ->  Seq Scan on salaries  (cost=0.00..459.28 rows=26428 width=28) (actual time=0.011..2.092 rows=26428 loops=1)\r\n",
      "               ->  Hash  (cost=1622.65..1622.65 rows=1376 width=20) (actual time=2.790..2.791 rows=1347 loops=1)\r\n",
      "                     Buckets: 2048  Batches: 1  Memory Usage: 89kB\r\n",
      "                     ->  Bitmap Heap Scan on appearances  (cost=18.96..1622.65 rows=1376 width=20) (actual time=0.310..2.380 rows=1347 loops=1)\r\n",
      "                           Recheck Cond: (g_batting = 10)\r\n",
      "                           Heap Blocks: exact=899\r\n",
      "                           ->  Bitmap Index Scan on g_batting_idx  (cost=0.00..18.61 rows=1376 width=0) (actual time=0.182..0.182 rows=1347 loops=1)\r\n",
      "                                 Index Cond: (g_batting = 10)\r\n",
      " Planning Time: 1.803 ms\r\n",
      " Execution Time: 11.556 ms\r\n",
      "(17 rows)\r\n",
      "\r\n"
     ]
    }
   ],
   "source": [
    "!psql -h localhost -d baseball -c \"explain analyze $result_4a_query_str\""
   ]
  },
  {
   "cell_type": "code",
   "execution_count": 78,
   "metadata": {},
   "outputs": [],
   "source": [
    "result_4b_cost = 2370\n",
    "result_4b_timing = 12.825"
   ]
  },
  {
   "cell_type": "code",
   "execution_count": 79,
   "metadata": {
    "deletable": false,
    "editable": false
   },
   "outputs": [
    {
     "data": {
      "text/html": [
       "<p><strong><pre style='display: inline;'>q4b</pre></strong> passed!</p>"
      ],
      "text/plain": [
       "q4b results: All test cases passed!"
      ]
     },
     "execution_count": 79,
     "metadata": {},
     "output_type": "execute_result"
    }
   ],
   "source": [
    "grader.check(\"q4b\")"
   ]
  },
  {
   "cell_type": "markdown",
   "metadata": {},
   "source": [
    "In the following question, we will explore adding a different index and evaluating the query from `Question 4a`. To avoid any interference by the `g_batting_idx` index, **drop the index before moving onto the next question.**"
   ]
  },
  {
   "cell_type": "code",
   "execution_count": 80,
   "metadata": {},
   "outputs": [
    {
     "name": "stdout",
     "output_type": "stream",
     "text": [
      " * postgresql://jovyan@127.0.0.1:5432/baseball\n",
      "   postgresql://jovyan@127.0.0.1:5432/postgres\n",
      "Done.\n"
     ]
    },
    {
     "data": {
      "text/plain": [
       "[]"
      ]
     },
     "execution_count": 80,
     "metadata": {},
     "output_type": "execute_result"
    }
   ],
   "source": [
    "%%sql \n",
    "DROP INDEX g_batting_idx;"
   ]
  },
  {
   "cell_type": "markdown",
   "metadata": {},
   "source": [
    "### Question 4c:\n",
    "Write a query to add an index with name `salary_idx` on the `salary` column of the `salaries` table."
   ]
  },
  {
   "cell_type": "code",
   "execution_count": 81,
   "metadata": {},
   "outputs": [
    {
     "name": "stdout",
     "output_type": "stream",
     "text": [
      " * postgresql://jovyan@127.0.0.1:5432/baseball\n",
      "   postgresql://jovyan@127.0.0.1:5432/postgres\n",
      "Done.\n",
      "Returning data to local variable result_4c\n"
     ]
    }
   ],
   "source": [
    "%%sql result_4c <<\n",
    "CREATE INDEX salary_idx\n",
    "ON salaries (salary);"
   ]
  },
  {
   "cell_type": "markdown",
   "metadata": {},
   "source": [
    "Re-inspect the query plan of the query from the `Question 4a` and record its execution time and cost."
   ]
  },
  {
   "cell_type": "code",
   "execution_count": 82,
   "metadata": {},
   "outputs": [
    {
     "name": "stdout",
     "output_type": "stream",
     "text": [
      "                                                                                                                     QUERY PLAN                                                                                                                     \r\n",
      "----------------------------------------------------------------------------------------------------------------------------------------------------------------------------------------------------------------------------------------------------\r\n",
      " GroupAggregate  (cost=3637.50..3637.53 rows=1 width=17) (actual time=21.783..21.860 rows=134 loops=1)\r\n",
      "   Group Key: appearances.playerid\r\n",
      "   ->  Sort  (cost=3637.50..3637.51 rows=1 width=17) (actual time=21.771..21.782 rows=138 loops=1)\r\n",
      "         Sort Key: appearances.playerid\r\n",
      "         Sort Method: quicksort  Memory: 35kB\r\n",
      "         ->  Hash Join  (cost=2900.72..3637.49 rows=1 width=17) (actual time=13.266..21.569 rows=138 loops=1)\r\n",
      "               Hash Cond: ((salaries.yearid = appearances.yearid) AND ((salaries.teamid)::text = (appearances.teamid)::text) AND ((salaries.lgid)::text = (appearances.lgid)::text) AND ((salaries.playerid)::text = (appearances.playerid)::text))\r\n",
      "               ->  Seq Scan on salaries  (cost=0.00..459.28 rows=26428 width=28) (actual time=0.013..2.097 rows=26428 loops=1)\r\n",
      "               ->  Hash  (cost=2873.20..2873.20 rows=1376 width=20) (actual time=13.059..13.060 rows=1347 loops=1)\r\n",
      "                     Buckets: 2048  Batches: 1  Memory Usage: 89kB\r\n",
      "                     ->  Seq Scan on appearances  (cost=0.00..2873.20 rows=1376 width=20) (actual time=0.012..12.543 rows=1347 loops=1)\r\n",
      "                           Filter: (g_batting = 10)\r\n",
      "                           Rows Removed by Filter: 102909\r\n",
      " Planning Time: 1.802 ms\r\n",
      " Execution Time: 21.977 ms\r\n",
      "(15 rows)\r\n",
      "\r\n"
     ]
    }
   ],
   "source": [
    "!psql -h localhost -d baseball -c \"explain analyze $result_4a_query_str\""
   ]
  },
  {
   "cell_type": "code",
   "execution_count": 83,
   "metadata": {},
   "outputs": [],
   "source": [
    "result_4c_cost = 3638\n",
    "result_4c_timing = 26.596"
   ]
  },
  {
   "cell_type": "code",
   "execution_count": 84,
   "metadata": {
    "deletable": false,
    "editable": false
   },
   "outputs": [
    {
     "data": {
      "text/html": [
       "<p><strong><pre style='display: inline;'>q4c</pre></strong> passed!</p>"
      ],
      "text/plain": [
       "q4c results: All test cases passed!"
      ]
     },
     "execution_count": 84,
     "metadata": {},
     "output_type": "execute_result"
    }
   ],
   "source": [
    "grader.check(\"q4c\")"
   ]
  },
  {
   "cell_type": "markdown",
   "metadata": {
    "deletable": false,
    "editable": false
   },
   "source": [
    "### Question 4d:\n",
    "#### Question 4di:\n",
    "Given your findings from inspecting the query plans with no indexes, an index on `g_batting`, and an index on `salary`, answer the following question. Assign the variable `q4d_part1` to a list of all options which are true for the proposed statement.\n",
    "\n",
    "1. Consider the following statements:\n",
    "    1. Adding the `g_batting` index did not have a significant impact on the query execution time and cost.\n",
    "    1. Adding the `g_batting` index did have a significant impact on the query execution time, but not the cost.\n",
    "    1. Adding the `g_batting` index did have a significant impact on the query cost, but not the execution time.\n",
    "    1. Adding the `g_batting` index did have a significant impact on the query cost and execution time.\n",
    "    1. Adding the `salary` index did not have a significant impact on the query execution time and cost.\n",
    "    1. Adding the `salary` index did have a significant impact on the query execution time, but not the cost.\n",
    "    1. Adding the `salary` index did have a significant impact on the query cost, but not the execution time.\n",
    "    1. Adding the `salary` index did have a significant impact on the query cost and execution time.\n",
    "\n",
    "**Note:** Your answer should be formatted as follows: `q4d_part1 = ['A', 'B']`\n",
    "\n",
    "<!--\n",
    "BEGIN QUESTION\n",
    "name: q4di\n",
    "points: 2\n",
    "-->"
   ]
  },
  {
   "cell_type": "code",
   "execution_count": 85,
   "metadata": {},
   "outputs": [],
   "source": [
    "q4d_part1 = ['D','E' ]"
   ]
  },
  {
   "cell_type": "code",
   "execution_count": 86,
   "metadata": {
    "deletable": false,
    "editable": false
   },
   "outputs": [
    {
     "data": {
      "text/html": [
       "<p><strong><pre style='display: inline;'>q4di</pre></strong> passed!</p>"
      ],
      "text/plain": [
       "q4di results: All test cases passed!"
      ]
     },
     "execution_count": 86,
     "metadata": {},
     "output_type": "execute_result"
    }
   ],
   "source": [
    "grader.check(\"q4di\")"
   ]
  },
  {
   "cell_type": "markdown",
   "metadata": {
    "deletable": false,
    "editable": false
   },
   "source": [
    "<!-- BEGIN QUESTION -->\n",
    "\n",
    "#### Question 4dii:\n",
    "\n",
    "Explain your answer based on your knowledge from lectures, and details from inspecting the query plans (your explanation should include why you didn't choose certain options).\n",
    "\n",
    "<!--\n",
    "BEGIN QUESTION\n",
    "name: q4dii\n",
    "manual: true\n",
    "points: 2\n",
    "-->"
   ]
  },
  {
   "cell_type": "markdown",
   "metadata": {},
   "source": [
    "D, E: \n",
    "As the index is created for g_batting and the where clause is applied for g_batting - that will result in the faster and more efficient results. \n",
    "\n",
    "Other Options: The salary index does not matter as the where clause does not account for salary, hence the salary index does not make sense. "
   ]
  },
  {
   "cell_type": "markdown",
   "metadata": {},
   "source": [
    "<!-- END QUESTION -->\n",
    "\n",
    "\n",
    "\n",
    "In the following question, we will further explore the impact of indexes on query performance. To avoid any interference by the `salary_idx` index, please drop the index before moving onto the next question."
   ]
  },
  {
   "cell_type": "code",
   "execution_count": 87,
   "metadata": {},
   "outputs": [
    {
     "name": "stdout",
     "output_type": "stream",
     "text": [
      " * postgresql://jovyan@127.0.0.1:5432/baseball\n",
      "   postgresql://jovyan@127.0.0.1:5432/postgres\n",
      "Done.\n"
     ]
    },
    {
     "data": {
      "text/plain": [
       "[]"
      ]
     },
     "execution_count": 87,
     "metadata": {},
     "output_type": "execute_result"
    }
   ],
   "source": [
    "%%sql \n",
    "DROP INDEX salary_idx; "
   ]
  },
  {
   "cell_type": "markdown",
   "metadata": {},
   "source": [
    "### Question 4e:\n",
    "#### Question 4ei:\n",
    "Write a query that finds the `playerid`, `yearid`, and `salary` for each player that had played 10 games and batted in 10 games (the number of games in which a player played can be found in the `g_all` column of the `appearances` table). Your query should join the `salaries` and `appearances` table on all the common columns `yearid`, `teamid`, and `playerid`, so feel free to use a natural join."
   ]
  },
  {
   "cell_type": "code",
   "execution_count": 88,
   "metadata": {},
   "outputs": [
    {
     "name": "stdout",
     "output_type": "stream",
     "text": [
      " * postgresql://jovyan@127.0.0.1:5432/baseball\n",
      "   postgresql://jovyan@127.0.0.1:5432/postgres\n",
      "120 rows affected.\n",
      "Returning data to local variable result_4ei\n"
     ]
    }
   ],
   "source": [
    "%%sql result_4ei <<\n",
    "SELECT playerid,yearid, salary FROM tb1 WHERE g_batting = '10' AND g_all = '10';"
   ]
  },
  {
   "cell_type": "code",
   "execution_count": 89,
   "metadata": {},
   "outputs": [],
   "source": [
    "# Do not delete/edit this cell\n",
    "result_4ei.DataFrame().sort_values(['playerid', 'yearid']).to_csv('results/result_4ei.csv', index=False)"
   ]
  },
  {
   "cell_type": "code",
   "execution_count": 90,
   "metadata": {
    "deletable": false,
    "editable": false
   },
   "outputs": [
    {
     "data": {
      "text/html": [
       "<p><strong><pre style='display: inline;'>q4ei_part1</pre></strong> passed!</p>"
      ],
      "text/plain": [
       "q4ei_part1 results: All test cases passed!"
      ]
     },
     "execution_count": 90,
     "metadata": {},
     "output_type": "execute_result"
    }
   ],
   "source": [
    "grader.check(\"q4ei_part1\")"
   ]
  },
  {
   "cell_type": "markdown",
   "metadata": {},
   "source": [
    "Inspect the query plan and record the execution time and cost."
   ]
  },
  {
   "cell_type": "code",
   "execution_count": 91,
   "metadata": {},
   "outputs": [
    {
     "name": "stdout",
     "output_type": "stream",
     "text": [
      "                                                                                                QUERY PLAN                                                                                                 \r\n",
      "-----------------------------------------------------------------------------------------------------------------------------------------------------------------------------------------------------------\r\n",
      " Nested Loop  (cost=0.29..3308.72 rows=1 width=21) (actual time=9.503..16.976 rows=120 loops=1)\r\n",
      "   ->  Seq Scan on appearances  (cost=0.00..3133.84 rows=22 width=20) (actual time=0.015..13.545 rows=1289 loops=1)\r\n",
      "         Filter: ((g_batting = 10) AND (g_all = 10))\r\n",
      "         Rows Removed by Filter: 102967\r\n",
      "   ->  Index Scan using salaries_pkey on salaries  (cost=0.29..7.95 rows=1 width=28) (actual time=0.002..0.002 rows=0 loops=1289)\r\n",
      "         Index Cond: ((yearid = appearances.yearid) AND ((teamid)::text = (appearances.teamid)::text) AND ((lgid)::text = (appearances.lgid)::text) AND ((playerid)::text = (appearances.playerid)::text))\r\n",
      " Planning Time: 1.719 ms\r\n",
      " Execution Time: 17.070 ms\r\n",
      "(8 rows)\r\n",
      "\r\n"
     ]
    }
   ],
   "source": [
    "result_4ei_query_str = \"SELECT playerid,yearid, salary FROM tb1 WHERE g_batting = '10' AND g_all = '10';\"\n",
    "!psql -h localhost -d baseball -c \"explain analyze $result_4ei_query_str\""
   ]
  },
  {
   "cell_type": "code",
   "execution_count": 92,
   "metadata": {},
   "outputs": [],
   "source": [
    "result_4ei_cost = 3300\n",
    "result_4ei_timing = 16.306"
   ]
  },
  {
   "cell_type": "code",
   "execution_count": 93,
   "metadata": {
    "deletable": false,
    "editable": false
   },
   "outputs": [
    {
     "data": {
      "text/html": [
       "<p><strong><pre style='display: inline;'>q4ei_part2</pre></strong> passed!</p>"
      ],
      "text/plain": [
       "q4ei_part2 results: All test cases passed!"
      ]
     },
     "execution_count": 93,
     "metadata": {},
     "output_type": "execute_result"
    }
   ],
   "source": [
    "grader.check(\"q4ei_part2\")"
   ]
  },
  {
   "cell_type": "markdown",
   "metadata": {},
   "source": [
    "#### Question 4eii:\n",
    "Now, let's see the impact of adding an index on the `g_batting` column. Create an index on the `g_batting` column. Re-inspect the query from `Question 4ei` and record the execution time and cost."
   ]
  },
  {
   "cell_type": "code",
   "execution_count": 94,
   "metadata": {
    "scrolled": true
   },
   "outputs": [
    {
     "name": "stdout",
     "output_type": "stream",
     "text": [
      " * postgresql://jovyan@127.0.0.1:5432/baseball\n",
      "   postgresql://jovyan@127.0.0.1:5432/postgres\n",
      "Done.\n",
      "Returning data to local variable result_4eii\n"
     ]
    }
   ],
   "source": [
    "%%sql result_4eii << \n",
    "CREATE INDEX g_batting_idx\n",
    "ON appearances (g_batting);"
   ]
  },
  {
   "cell_type": "code",
   "execution_count": 95,
   "metadata": {
    "scrolled": true
   },
   "outputs": [
    {
     "name": "stdout",
     "output_type": "stream",
     "text": [
      "                                                                                                QUERY PLAN                                                                                                 \r\n",
      "-----------------------------------------------------------------------------------------------------------------------------------------------------------------------------------------------------------\r\n",
      " Nested Loop  (cost=18.91..1800.63 rows=1 width=21) (actual time=3.011..5.854 rows=120 loops=1)\r\n",
      "   ->  Bitmap Heap Scan on appearances  (cost=18.62..1625.75 rows=22 width=20) (actual time=0.313..2.586 rows=1289 loops=1)\r\n",
      "         Recheck Cond: (g_batting = 10)\r\n",
      "         Filter: (g_all = 10)\r\n",
      "         Rows Removed by Filter: 58\r\n",
      "         Heap Blocks: exact=899\r\n",
      "         ->  Bitmap Index Scan on g_batting_idx  (cost=0.00..18.61 rows=1376 width=0) (actual time=0.189..0.189 rows=1347 loops=1)\r\n",
      "               Index Cond: (g_batting = 10)\r\n",
      "   ->  Index Scan using salaries_pkey on salaries  (cost=0.29..7.95 rows=1 width=28) (actual time=0.002..0.002 rows=0 loops=1289)\r\n",
      "         Index Cond: ((yearid = appearances.yearid) AND ((teamid)::text = (appearances.teamid)::text) AND ((lgid)::text = (appearances.lgid)::text) AND ((playerid)::text = (appearances.playerid)::text))\r\n",
      " Planning Time: 2.430 ms\r\n",
      " Execution Time: 5.978 ms\r\n",
      "(12 rows)\r\n",
      "\r\n"
     ]
    }
   ],
   "source": [
    "!psql -h localhost -d baseball -c \"explain analyze $result_4ei_query_str\""
   ]
  },
  {
   "cell_type": "code",
   "execution_count": 96,
   "metadata": {},
   "outputs": [],
   "source": [
    "result_4eii_with_index_cost = 1777\n",
    "result_4eii_with_index_timing = 27.083"
   ]
  },
  {
   "cell_type": "code",
   "execution_count": 97,
   "metadata": {
    "deletable": false,
    "editable": false
   },
   "outputs": [
    {
     "data": {
      "text/html": [
       "<p><strong><pre style='display: inline;'>q4eii</pre></strong> passed!</p>"
      ],
      "text/plain": [
       "q4eii results: All test cases passed!"
      ]
     },
     "execution_count": 97,
     "metadata": {},
     "output_type": "execute_result"
    }
   ],
   "source": [
    "grader.check(\"q4eii\")"
   ]
  },
  {
   "cell_type": "markdown",
   "metadata": {},
   "source": [
    "In the following question, we will further explore the impact of indexes on query performance. To avoid any interference from the index on the `g_batting` column, drop the index before moving onto the next question."
   ]
  },
  {
   "cell_type": "code",
   "execution_count": 98,
   "metadata": {},
   "outputs": [
    {
     "name": "stdout",
     "output_type": "stream",
     "text": [
      " * postgresql://jovyan@127.0.0.1:5432/baseball\n",
      "   postgresql://jovyan@127.0.0.1:5432/postgres\n",
      "Done.\n"
     ]
    },
    {
     "data": {
      "text/plain": [
       "[]"
      ]
     },
     "execution_count": 98,
     "metadata": {},
     "output_type": "execute_result"
    }
   ],
   "source": [
    "%%sql \n",
    "DROP INDEX g_batting_idx; "
   ]
  },
  {
   "cell_type": "markdown",
   "metadata": {},
   "source": [
    "#### Question 4eiii:\n",
    "Write a query that finds the `playerid`, `yearid`, and `salary` for each player that had played 10 games __or__ batted in 10 games. Your query should join the `salaries` and `appearances` table on all the common columns `yearid`, `teamid`, and `playerid`, so feel free to use a natural join."
   ]
  },
  {
   "cell_type": "code",
   "execution_count": 99,
   "metadata": {},
   "outputs": [
    {
     "name": "stdout",
     "output_type": "stream",
     "text": [
      " * postgresql://jovyan@127.0.0.1:5432/baseball\n",
      "   postgresql://jovyan@127.0.0.1:5432/postgres\n",
      "216 rows affected.\n",
      "Returning data to local variable result_4eiii\n"
     ]
    }
   ],
   "source": [
    "%%sql result_4eiii <<\n",
    "SELECT playerid,yearid, salary FROM tb1 WHERE g_batting = '10' OR g_all = '10';"
   ]
  },
  {
   "cell_type": "code",
   "execution_count": 100,
   "metadata": {},
   "outputs": [],
   "source": [
    "# Do not delete/edit this cell\n",
    "result_4eiii.DataFrame().sort_values(['playerid', 'yearid']).to_csv('results/result_4eiii.csv', index=False)"
   ]
  },
  {
   "cell_type": "code",
   "execution_count": 101,
   "metadata": {
    "deletable": false,
    "editable": false
   },
   "outputs": [
    {
     "data": {
      "text/html": [
       "<p><strong><pre style='display: inline;'>q4eiii_part1</pre></strong> passed!</p>"
      ],
      "text/plain": [
       "q4eiii_part1 results: All test cases passed!"
      ]
     },
     "execution_count": 101,
     "metadata": {},
     "output_type": "execute_result"
    }
   ],
   "source": [
    "grader.check(\"q4eiii_part1\")"
   ]
  },
  {
   "cell_type": "code",
   "execution_count": 102,
   "metadata": {},
   "outputs": [
    {
     "name": "stdout",
     "output_type": "stream",
     "text": [
      "                                                                                                               QUERY PLAN                                                                                                               \r\n",
      "----------------------------------------------------------------------------------------------------------------------------------------------------------------------------------------------------------------------------------------\r\n",
      " Hash Join  (cost=3193.88..3930.65 rows=1 width=21) (actual time=16.525..26.278 rows=216 loops=1)\r\n",
      "   Hash Cond: ((salaries.yearid = appearances.yearid) AND ((salaries.teamid)::text = (appearances.teamid)::text) AND ((salaries.lgid)::text = (appearances.lgid)::text) AND ((salaries.playerid)::text = (appearances.playerid)::text))\r\n",
      "   ->  Seq Scan on salaries  (cost=0.00..459.28 rows=26428 width=28) (actual time=0.013..2.457 rows=26428 loops=1)\r\n",
      "   ->  Hash  (cost=3133.84..3133.84 rows=3002 width=20) (actual time=16.167..16.170 rows=1655 loops=1)\r\n",
      "         Buckets: 4096  Batches: 1  Memory Usage: 121kB\r\n",
      "         ->  Seq Scan on appearances  (cost=0.00..3133.84 rows=3002 width=20) (actual time=0.014..15.390 rows=1655 loops=1)\r\n",
      "               Filter: ((g_batting = 10) OR (g_all = 10))\r\n",
      "               Rows Removed by Filter: 102601\r\n",
      " Planning Time: 1.682 ms\r\n",
      " Execution Time: 26.387 ms\r\n",
      "(10 rows)\r\n",
      "\r\n"
     ]
    }
   ],
   "source": [
    "result_4eiii_query_str = \"SELECT playerid,yearid, salary FROM tb1 WHERE g_batting = '10' OR g_all = '10';\"\n",
    "!psql -h localhost -d baseball -c \"explain analyze $result_4eiii_query_str\""
   ]
  },
  {
   "cell_type": "code",
   "execution_count": 103,
   "metadata": {},
   "outputs": [],
   "source": [
    "result_4eiii_cost = 3929\n",
    "result_4eiii_timing = 53.263"
   ]
  },
  {
   "cell_type": "code",
   "execution_count": 104,
   "metadata": {
    "deletable": false,
    "editable": false
   },
   "outputs": [
    {
     "data": {
      "text/html": [
       "<p><strong><pre style='display: inline;'>q4eiii_part2</pre></strong> passed!</p>"
      ],
      "text/plain": [
       "q4eiii_part2 results: All test cases passed!"
      ]
     },
     "execution_count": 104,
     "metadata": {},
     "output_type": "execute_result"
    }
   ],
   "source": [
    "grader.check(\"q4eiii_part2\")"
   ]
  },
  {
   "cell_type": "markdown",
   "metadata": {},
   "source": [
    "#### Question 4eiv\n",
    "Now, let's see the impact of adding an index on `g_batting` column will have on the query. Re-create the index and re-inspect the query from `Question 4eiii` and record the execution time and cost."
   ]
  },
  {
   "cell_type": "code",
   "execution_count": 105,
   "metadata": {
    "scrolled": true
   },
   "outputs": [
    {
     "name": "stdout",
     "output_type": "stream",
     "text": [
      " * postgresql://jovyan@127.0.0.1:5432/baseball\n",
      "   postgresql://jovyan@127.0.0.1:5432/postgres\n",
      "Done.\n",
      "Returning data to local variable result_4eiv\n"
     ]
    }
   ],
   "source": [
    "%%sql result_4eiv << \n",
    "CREATE INDEX g_batting_idx\n",
    "ON appearances (g_batting);"
   ]
  },
  {
   "cell_type": "code",
   "execution_count": 106,
   "metadata": {},
   "outputs": [
    {
     "name": "stdout",
     "output_type": "stream",
     "text": [
      "                                                                                                               QUERY PLAN                                                                                                               \r\n",
      "----------------------------------------------------------------------------------------------------------------------------------------------------------------------------------------------------------------------------------------\r\n",
      " Hash Join  (cost=3193.88..3930.65 rows=1 width=21) (actual time=15.139..23.911 rows=216 loops=1)\r\n",
      "   Hash Cond: ((salaries.yearid = appearances.yearid) AND ((salaries.teamid)::text = (appearances.teamid)::text) AND ((salaries.lgid)::text = (appearances.lgid)::text) AND ((salaries.playerid)::text = (appearances.playerid)::text))\r\n",
      "   ->  Seq Scan on salaries  (cost=0.00..459.28 rows=26428 width=28) (actual time=0.015..2.217 rows=26428 loops=1)\r\n",
      "   ->  Hash  (cost=3133.84..3133.84 rows=3002 width=20) (actual time=14.852..14.855 rows=1655 loops=1)\r\n",
      "         Buckets: 4096  Batches: 1  Memory Usage: 121kB\r\n",
      "         ->  Seq Scan on appearances  (cost=0.00..3133.84 rows=3002 width=20) (actual time=0.017..14.024 rows=1655 loops=1)\r\n",
      "               Filter: ((g_batting = 10) OR (g_all = 10))\r\n",
      "               Rows Removed by Filter: 102601\r\n",
      " Planning Time: 2.130 ms\r\n",
      " Execution Time: 24.027 ms\r\n",
      "(10 rows)\r\n",
      "\r\n"
     ]
    }
   ],
   "source": [
    "!psql -h localhost -d baseball -c \"explain analyze $result_4eiii_query_str\""
   ]
  },
  {
   "cell_type": "code",
   "execution_count": 107,
   "metadata": {},
   "outputs": [],
   "source": [
    "result_4eiv_with_index_cost = 3192\n",
    "result_4eiv_with_index_timing = 27.155"
   ]
  },
  {
   "cell_type": "code",
   "execution_count": 108,
   "metadata": {
    "deletable": false,
    "editable": false
   },
   "outputs": [
    {
     "data": {
      "text/html": [
       "<p><strong><pre style='display: inline;'>q4eiv</pre></strong> passed!</p>"
      ],
      "text/plain": [
       "q4eiv results: All test cases passed!"
      ]
     },
     "execution_count": 108,
     "metadata": {},
     "output_type": "execute_result"
    }
   ],
   "source": [
    "grader.check(\"q4eiv\")"
   ]
  },
  {
   "cell_type": "markdown",
   "metadata": {},
   "source": [
    "In the following question, we will further explore the impact of indexes on query performance. To avoid any interference from the index on the `g_batting` column, drop the index before moving onto the next question."
   ]
  },
  {
   "cell_type": "code",
   "execution_count": 109,
   "metadata": {},
   "outputs": [
    {
     "name": "stdout",
     "output_type": "stream",
     "text": [
      " * postgresql://jovyan@127.0.0.1:5432/baseball\n",
      "   postgresql://jovyan@127.0.0.1:5432/postgres\n",
      "(psycopg2.errors.UndefinedObject) index \"g_batting_index\" does not exist\n",
      "\n",
      "[SQL: DROP INDEX g_batting_index;]\n",
      "(Background on this error at: https://sqlalche.me/e/14/f405)\n"
     ]
    }
   ],
   "source": [
    "%%sql \n",
    "DROP INDEX g_batting_index; "
   ]
  },
  {
   "cell_type": "markdown",
   "metadata": {},
   "source": [
    "#### Question 4ev:\n",
    "Now, create a multiple column index on `g_batting` and `g_all` called `g_batting_g_all_idx` and record the query execution time and cost."
   ]
  },
  {
   "cell_type": "code",
   "execution_count": 110,
   "metadata": {},
   "outputs": [
    {
     "name": "stdout",
     "output_type": "stream",
     "text": [
      " * postgresql://jovyan@127.0.0.1:5432/baseball\n",
      "   postgresql://jovyan@127.0.0.1:5432/postgres\n",
      "Done.\n",
      "Returning data to local variable result_4v\n"
     ]
    }
   ],
   "source": [
    "%%sql result_4v <<\n",
    "CREATE INDEX g_batting_g_all_idx\n",
    "ON appearances (g_batting, g_all);"
   ]
  },
  {
   "cell_type": "code",
   "execution_count": 111,
   "metadata": {},
   "outputs": [
    {
     "name": "stdout",
     "output_type": "stream",
     "text": [
      "                                                                                                               QUERY PLAN                                                                                                               \r\n",
      "----------------------------------------------------------------------------------------------------------------------------------------------------------------------------------------------------------------------------------------\r\n",
      " Hash Join  (cost=2871.61..3608.38 rows=1 width=21) (actual time=4.237..12.472 rows=216 loops=1)\r\n",
      "   Hash Cond: ((salaries.yearid = appearances.yearid) AND ((salaries.teamid)::text = (appearances.teamid)::text) AND ((salaries.lgid)::text = (appearances.lgid)::text) AND ((salaries.playerid)::text = (appearances.playerid)::text))\r\n",
      "   ->  Seq Scan on salaries  (cost=0.00..459.28 rows=26428 width=28) (actual time=0.015..2.091 rows=26428 loops=1)\r\n",
      "   ->  Hash  (cost=2811.57..2811.57 rows=3002 width=20) (actual time=4.027..4.031 rows=1655 loops=1)\r\n",
      "         Buckets: 4096  Batches: 1  Memory Usage: 121kB\r\n",
      "         ->  Bitmap Heap Scan on appearances  (cost=1182.33..2811.57 rows=3002 width=20) (actual time=1.187..3.505 rows=1655 loops=1)\r\n",
      "               Recheck Cond: ((g_batting = 10) OR (g_all = 10))\r\n",
      "               Heap Blocks: exact=1027\r\n",
      "               ->  BitmapOr  (cost=1182.33..1182.33 rows=3023 width=0) (actual time=1.035..1.037 rows=0 loops=1)\r\n",
      "                     ->  Bitmap Index Scan on g_batting_g_all_idx  (cost=0.00..18.61 rows=1376 width=0) (actual time=0.198..0.199 rows=1347 loops=1)\r\n",
      "                           Index Cond: (g_batting = 10)\r\n",
      "                     ->  Bitmap Index Scan on g_batting_g_all_idx  (cost=0.00..1162.21 rows=1647 width=0) (actual time=0.835..0.835 rows=1597 loops=1)\r\n",
      "                           Index Cond: (g_all = 10)\r\n",
      " Planning Time: 1.834 ms\r\n",
      " Execution Time: 12.618 ms\r\n",
      "(15 rows)\r\n",
      "\r\n"
     ]
    }
   ],
   "source": [
    "!psql -h localhost -d baseball -c \"explain analyze $result_4eiii_query_str\""
   ]
  },
  {
   "cell_type": "code",
   "execution_count": 112,
   "metadata": {},
   "outputs": [],
   "source": [
    "result_4ev_multiple_col_index_cost = 2875\n",
    "result_4ev_multiple_col_index_timing = 13.470"
   ]
  },
  {
   "cell_type": "code",
   "execution_count": 113,
   "metadata": {
    "deletable": false,
    "editable": false
   },
   "outputs": [
    {
     "data": {
      "text/html": [
       "<p><strong><pre style='display: inline;'>q4ev</pre></strong> passed!</p>"
      ],
      "text/plain": [
       "q4ev results: All test cases passed!"
      ]
     },
     "execution_count": 113,
     "metadata": {},
     "output_type": "execute_result"
    }
   ],
   "source": [
    "grader.check(\"q4ev\")"
   ]
  },
  {
   "cell_type": "markdown",
   "metadata": {
    "deletable": false,
    "editable": false
   },
   "source": [
    "#### Question 4evi:\n",
    "Given your findings from inspecting the query plans from `Question 4e`, answer the following question. Assign the variable `q4e_part6` to a list of all statements that are true.\n",
    "\n",
    "1. Consider the following statements:\n",
    "    1. Adding an index on a column used in an AND predicate will reduce the query time, but not the execution cost.\n",
    "    1. Adding an index on a column used in an AND predicate will reduce the query cost, but not the execution time.\n",
    "    1. Adding an index on a column used in an AND predicate will reduce the query cost and the execution time.\n",
    "    1. Adding an index on a column used in an OR predicate will reduce the query time, but not the execution cost.\n",
    "    1. Adding an index on a column used in an OR predicate will reduce the query cost, but not the execution time.\n",
    "    1. Adding an index on a column used in an OR predicate will reduce the query cost and the execution time.\n",
    "    1. Adding a mutlicolumn index on columns in an OR predicate will reduce the query time, but not the execution cost.\n",
    "    1. Adding a mutlicolumn index on columns in an OR predicate will reduce the query cost, but not the execution time.\n",
    "    1. Adding a mutlicolumn index on columns in an OR predicate will reduce the query cost and the execution time.\n",
    "\n",
    "**Note:** Your answer should be formatted as follows: `q4e_part6 = ['A', 'B']`\n",
    "\n",
    "<!--\n",
    "BEGIN QUESTION\n",
    "name: q4evi\n",
    "points: 2\n",
    "-->"
   ]
  },
  {
   "cell_type": "code",
   "execution_count": 114,
   "metadata": {},
   "outputs": [],
   "source": [
    "q4e_part6 = ['C','I']"
   ]
  },
  {
   "cell_type": "code",
   "execution_count": 115,
   "metadata": {
    "deletable": false,
    "editable": false
   },
   "outputs": [
    {
     "data": {
      "text/html": [
       "<p><strong><pre style='display: inline;'>q4evi</pre></strong> passed!</p>"
      ],
      "text/plain": [
       "q4evi results: All test cases passed!"
      ]
     },
     "execution_count": 115,
     "metadata": {},
     "output_type": "execute_result"
    }
   ],
   "source": [
    "grader.check(\"q4evi\")"
   ]
  },
  {
   "cell_type": "markdown",
   "metadata": {
    "deletable": false,
    "editable": false
   },
   "source": [
    "<!-- BEGIN QUESTION -->\n",
    "\n",
    "#### Question 4evii\n",
    "\n",
    "Explain your answer to the previous part based on your knowledge from lectures, and details of the query plans (your explanation should include why you didn't choose certain options).\n",
    "\n",
    "<!--\n",
    "BEGIN QUESTION\n",
    "name: q4evii\n",
    "manual: true\n",
    "points: 2\n",
    "-->"
   ]
  },
  {
   "cell_type": "markdown",
   "metadata": {},
   "source": [
    "A,B: I did choose these options as the time and cost seem to be correlated. \n",
    "C: Adding an index makes the "
   ]
  },
  {
   "cell_type": "markdown",
   "metadata": {},
   "source": [
    "<!-- END QUESTION -->\n",
    "\n",
    "\n",
    "\n",
    "## Question 5: More Indexes\n",
    "### Question 5a:\n",
    "Write 2 queries: one that finds the minimum salary from the salary table and one that finds the average. Inspect the queries' query plans and record their execution times and costs."
   ]
  },
  {
   "cell_type": "code",
   "execution_count": 116,
   "metadata": {},
   "outputs": [
    {
     "name": "stdout",
     "output_type": "stream",
     "text": [
      " * postgresql://jovyan@127.0.0.1:5432/baseball\n",
      "   postgresql://jovyan@127.0.0.1:5432/postgres\n",
      "1 rows affected.\n",
      "Returning data to local variable result_5a_min\n"
     ]
    }
   ],
   "source": [
    "%%sql result_5a_min << \n",
    "SELECT MIN(salary) FROM salaries;"
   ]
  },
  {
   "cell_type": "code",
   "execution_count": 117,
   "metadata": {},
   "outputs": [
    {
     "name": "stdout",
     "output_type": "stream",
     "text": [
      "                                                    QUERY PLAN                                                    \r\n",
      "------------------------------------------------------------------------------------------------------------------\r\n",
      " Aggregate  (cost=525.35..525.36 rows=1 width=8) (actual time=4.459..4.460 rows=1 loops=1)\r\n",
      "   ->  Seq Scan on salaries  (cost=0.00..459.28 rows=26428 width=8) (actual time=0.011..2.008 rows=26428 loops=1)\r\n",
      " Planning Time: 0.537 ms\r\n",
      " Execution Time: 4.537 ms\r\n",
      "(4 rows)\r\n",
      "\r\n"
     ]
    }
   ],
   "source": [
    "result_5a_min_query_str = \"SELECT MIN(salary) FROM salaries;\"\n",
    "!psql -h localhost -d baseball -c \"explain analyze $result_5a_min_query_str\""
   ]
  },
  {
   "cell_type": "code",
   "execution_count": 118,
   "metadata": {},
   "outputs": [],
   "source": [
    "result_5a_min_query_cost = 525\n",
    "result_5a_min_query_timing = 6.969"
   ]
  },
  {
   "cell_type": "code",
   "execution_count": 119,
   "metadata": {
    "deletable": false,
    "editable": false
   },
   "outputs": [
    {
     "data": {
      "text/html": [
       "<p><strong><pre style='display: inline;'>q5ai</pre></strong> passed!</p>"
      ],
      "text/plain": [
       "q5ai results: All test cases passed!"
      ]
     },
     "execution_count": 119,
     "metadata": {},
     "output_type": "execute_result"
    }
   ],
   "source": [
    "grader.check(\"q5ai\")"
   ]
  },
  {
   "cell_type": "code",
   "execution_count": 120,
   "metadata": {},
   "outputs": [
    {
     "name": "stdout",
     "output_type": "stream",
     "text": [
      " * postgresql://jovyan@127.0.0.1:5432/baseball\n",
      "   postgresql://jovyan@127.0.0.1:5432/postgres\n",
      "1 rows affected.\n",
      "Returning data to local variable result_5a_avg\n"
     ]
    }
   ],
   "source": [
    "%%sql result_5a_avg <<\n",
    "SELECT AVG(salary) FROM salaries;"
   ]
  },
  {
   "cell_type": "code",
   "execution_count": 121,
   "metadata": {},
   "outputs": [
    {
     "name": "stdout",
     "output_type": "stream",
     "text": [
      "                                                    QUERY PLAN                                                    \r\n",
      "------------------------------------------------------------------------------------------------------------------\r\n",
      " Aggregate  (cost=525.35..525.36 rows=1 width=8) (actual time=5.818..5.820 rows=1 loops=1)\r\n",
      "   ->  Seq Scan on salaries  (cost=0.00..459.28 rows=26428 width=8) (actual time=0.012..2.318 rows=26428 loops=1)\r\n",
      " Planning Time: 0.351 ms\r\n",
      " Execution Time: 5.901 ms\r\n",
      "(4 rows)\r\n",
      "\r\n"
     ]
    }
   ],
   "source": [
    "result_5a_avg_query_str = \"SELECT AVG(salary) FROM salaries;\"\n",
    "!psql -h localhost -d baseball -c \"explain analyze $result_5a_avg_query_str\""
   ]
  },
  {
   "cell_type": "code",
   "execution_count": 122,
   "metadata": {},
   "outputs": [],
   "source": [
    "result_5a_avg_query_cost = 525\n",
    "result_5a_avg_query_timing = 5.179"
   ]
  },
  {
   "cell_type": "code",
   "execution_count": 123,
   "metadata": {
    "deletable": false,
    "editable": false
   },
   "outputs": [
    {
     "data": {
      "text/html": [
       "<p><strong><pre style='display: inline;'>q5aii</pre></strong> passed!</p>"
      ],
      "text/plain": [
       "q5aii results: All test cases passed!"
      ]
     },
     "execution_count": 123,
     "metadata": {},
     "output_type": "execute_result"
    }
   ],
   "source": [
    "grader.check(\"q5aii\")"
   ]
  },
  {
   "cell_type": "markdown",
   "metadata": {},
   "source": [
    "### Question 5b:\n",
    "Create an index on the `salary` column in the `salaries` table and re-inspect the query plans from the previous part and record the respective execution time and cost."
   ]
  },
  {
   "cell_type": "code",
   "execution_count": 124,
   "metadata": {},
   "outputs": [
    {
     "name": "stdout",
     "output_type": "stream",
     "text": [
      " * postgresql://jovyan@127.0.0.1:5432/baseball\n",
      "   postgresql://jovyan@127.0.0.1:5432/postgres\n",
      "Done.\n"
     ]
    },
    {
     "data": {
      "text/plain": [
       "[]"
      ]
     },
     "execution_count": 124,
     "metadata": {},
     "output_type": "execute_result"
    }
   ],
   "source": [
    "%%sql \n",
    "CREATE INDEX salary_idx\n",
    "ON salaries(salary);"
   ]
  },
  {
   "cell_type": "code",
   "execution_count": 125,
   "metadata": {},
   "outputs": [
    {
     "name": "stdout",
     "output_type": "stream",
     "text": [
      "                                                                  QUERY PLAN                                                                  \r\n",
      "----------------------------------------------------------------------------------------------------------------------------------------------\r\n",
      " Result  (cost=0.32..0.33 rows=1 width=8) (actual time=0.062..0.063 rows=1 loops=1)\r\n",
      "   InitPlan 1 (returns $0)\r\n",
      "     ->  Limit  (cost=0.29..0.32 rows=1 width=8) (actual time=0.059..0.060 rows=1 loops=1)\r\n",
      "           ->  Index Only Scan using salary_idx on salaries  (cost=0.29..762.78 rows=26428 width=8) (actual time=0.058..0.058 rows=1 loops=1)\r\n",
      "                 Index Cond: (salary IS NOT NULL)\r\n",
      "                 Heap Fetches: 0\r\n",
      " Planning Time: 0.635 ms\r\n",
      " Execution Time: 0.113 ms\r\n",
      "(8 rows)\r\n",
      "\r\n"
     ]
    }
   ],
   "source": [
    "!psql -h localhost -d baseball -c \"explain analyze $result_5a_min_query_str\""
   ]
  },
  {
   "cell_type": "code",
   "execution_count": 126,
   "metadata": {},
   "outputs": [],
   "source": [
    "result_5b_min_query_cost = 0.32\n",
    "result_5b_min_query_timing = 0.123"
   ]
  },
  {
   "cell_type": "code",
   "execution_count": 127,
   "metadata": {
    "deletable": false,
    "editable": false
   },
   "outputs": [
    {
     "data": {
      "text/html": [
       "<p><strong><pre style='display: inline;'>q5bi</pre></strong> passed!</p>"
      ],
      "text/plain": [
       "q5bi results: All test cases passed!"
      ]
     },
     "execution_count": 127,
     "metadata": {},
     "output_type": "execute_result"
    }
   ],
   "source": [
    "grader.check(\"q5bi\")"
   ]
  },
  {
   "cell_type": "code",
   "execution_count": 128,
   "metadata": {},
   "outputs": [
    {
     "name": "stdout",
     "output_type": "stream",
     "text": [
      "                                                    QUERY PLAN                                                    \r\n",
      "------------------------------------------------------------------------------------------------------------------\r\n",
      " Aggregate  (cost=525.35..525.36 rows=1 width=8) (actual time=8.093..8.095 rows=1 loops=1)\r\n",
      "   ->  Seq Scan on salaries  (cost=0.00..459.28 rows=26428 width=8) (actual time=0.015..3.188 rows=26428 loops=1)\r\n",
      " Planning Time: 0.655 ms\r\n",
      " Execution Time: 8.208 ms\r\n",
      "(4 rows)\r\n",
      "\r\n"
     ]
    }
   ],
   "source": [
    "!psql -h localhost -d baseball -c \"explain analyze $result_5a_avg_query_str\""
   ]
  },
  {
   "cell_type": "code",
   "execution_count": 129,
   "metadata": {},
   "outputs": [],
   "source": [
    "result_5b_avg_query_cost = 525.35\n",
    "result_5b_avg_query_timing = 4.973"
   ]
  },
  {
   "cell_type": "code",
   "execution_count": 130,
   "metadata": {
    "deletable": false,
    "editable": false
   },
   "outputs": [
    {
     "data": {
      "text/html": [
       "<p><strong><pre style='display: inline;'>q5bii</pre></strong> passed!</p>"
      ],
      "text/plain": [
       "q5bii results: All test cases passed!"
      ]
     },
     "execution_count": 130,
     "metadata": {},
     "output_type": "execute_result"
    }
   ],
   "source": [
    "grader.check(\"q5bii\")"
   ]
  },
  {
   "cell_type": "markdown",
   "metadata": {},
   "source": [
    "In the following questions, we will further explore the impact of indexes on query performance. To avoid any interference from the index on the `salary` column, drop the index before moving onto the next question."
   ]
  },
  {
   "cell_type": "code",
   "execution_count": 131,
   "metadata": {},
   "outputs": [
    {
     "name": "stdout",
     "output_type": "stream",
     "text": [
      " * postgresql://jovyan@127.0.0.1:5432/baseball\n",
      "   postgresql://jovyan@127.0.0.1:5432/postgres\n",
      "Done.\n"
     ]
    },
    {
     "data": {
      "text/plain": [
       "[]"
      ]
     },
     "execution_count": 131,
     "metadata": {},
     "output_type": "execute_result"
    }
   ],
   "source": [
    "%%sql \n",
    "DROP INDEX salary_idx; "
   ]
  },
  {
   "cell_type": "markdown",
   "metadata": {
    "deletable": false,
    "editable": false
   },
   "source": [
    "### Question 5c:\n",
    "Given your findings from `Question 5a-b`, answer the following question. Assign the variable `q5c` to the correct answer choice.\n",
    "\n",
    "1. Which of the following statements is true?\n",
    "    1. An index on the column being aggregated in a query will always provide a performance enhancement.\n",
    "    1. A query finding the MIN(salary) will always benefit from an index on salary, but a query finding MAX(salary) will not.\n",
    "    1. A query finding the COUNT(salary) will always benefit from an index on salary, but a query finding AVG(salary) will not.\n",
    "    1. Queries finding the MIN(salary) or MAX(salary) will always benefit from an index on salary, but queries finding AVG(salary) or COUNT(salary) will not.\n",
    "\n",
    "*Note:* Your answer should be formatted as follows: `q5c = ['A', 'B']`\n",
    "\n",
    "<!--\n",
    "BEGIN QUESTION\n",
    "name: q5c\n",
    "points: 1\n",
    "-->"
   ]
  },
  {
   "cell_type": "code",
   "execution_count": 132,
   "metadata": {},
   "outputs": [],
   "source": [
    "q5c = ['D']"
   ]
  },
  {
   "cell_type": "code",
   "execution_count": 133,
   "metadata": {
    "deletable": false,
    "editable": false
   },
   "outputs": [
    {
     "data": {
      "text/html": [
       "<p><strong><pre style='display: inline;'>q5c</pre></strong> passed!</p>"
      ],
      "text/plain": [
       "q5c results: All test cases passed!"
      ]
     },
     "execution_count": 133,
     "metadata": {},
     "output_type": "execute_result"
    }
   ],
   "source": [
    "grader.check(\"q5c\")"
   ]
  },
  {
   "cell_type": "markdown",
   "metadata": {
    "deletable": false,
    "editable": false
   },
   "source": [
    "<!-- BEGIN QUESTION -->\n",
    "\n",
    "### Question 5d:\n",
    "\n",
    "Explain your answer to the previous part based on your knowledge from lectures, and your inspection of the query plans.\n",
    "\n",
    "<!--\n",
    "BEGIN QUESTION\n",
    "name: q5d\n",
    "manual: true\n",
    "points: 2\n",
    "-->"
   ]
  },
  {
   "cell_type": "markdown",
   "metadata": {},
   "source": [
    "D: Indexing through the columns to find min and max allows us to directly index into the required metrics and does not require the system to go over all the rows. \n",
    "\n",
    "Other options: To get AVG or COUNT, the system is required to go over all the rows irrespective of index, hence adding an index does not change the time. "
   ]
  },
  {
   "cell_type": "markdown",
   "metadata": {},
   "source": [
    "<!-- END QUESTION -->\n",
    "\n",
    "\n",
    "\n",
    "## Question 6: Clustered Indexes\n",
    "In this question, we will inspect the impact that clustering our data on an index can have on a query's performance.\n",
    "\n",
    "### Question 6a\n",
    "Write a query that finds the `playerid`, `yearid`, `teamid`, and `ab` for all players whose `ab` was above 500. Inspect the query plan and record the execution time and cost."
   ]
  },
  {
   "cell_type": "code",
   "execution_count": 134,
   "metadata": {
    "scrolled": true
   },
   "outputs": [
    {
     "name": "stdout",
     "output_type": "stream",
     "text": [
      " * postgresql://jovyan@127.0.0.1:5432/baseball\n",
      "   postgresql://jovyan@127.0.0.1:5432/postgres\n",
      "8839 rows affected.\n",
      "Returning data to local variable result_6a\n"
     ]
    }
   ],
   "source": [
    "%%sql result_6a <<\n",
    "SELECT playerid, yearid, teamid, ab FROM batting WHERE ab > '500'; "
   ]
  },
  {
   "cell_type": "code",
   "execution_count": 135,
   "metadata": {},
   "outputs": [],
   "source": [
    "# Do not delete/edit this cell\n",
    "result_6a.DataFrame().sort_values(['playerid', 'yearid', 'teamid']).iloc[:1000].to_csv('results/result_6a.csv', index=False)"
   ]
  },
  {
   "cell_type": "code",
   "execution_count": 136,
   "metadata": {
    "deletable": false,
    "editable": false
   },
   "outputs": [
    {
     "data": {
      "text/html": [
       "<p><strong><pre style='display: inline;'>q6ai</pre></strong> passed!</p>"
      ],
      "text/plain": [
       "q6ai results: All test cases passed!"
      ]
     },
     "execution_count": 136,
     "metadata": {},
     "output_type": "execute_result"
    }
   ],
   "source": [
    "grader.check(\"q6ai\")"
   ]
  },
  {
   "cell_type": "code",
   "execution_count": 137,
   "metadata": {},
   "outputs": [
    {
     "name": "stdout",
     "output_type": "stream",
     "text": [
      "                                                 QUERY PLAN                                                 \r\n",
      "------------------------------------------------------------------------------------------------------------\r\n",
      " Seq Scan on batting  (cost=0.00..2884.05 rows=8726 width=21) (actual time=0.278..13.793 rows=8839 loops=1)\r\n",
      "   Filter: (ab > 500)\r\n",
      "   Rows Removed by Filter: 95485\r\n",
      " Planning Time: 0.389 ms\r\n",
      " Execution Time: 14.162 ms\r\n",
      "(5 rows)\r\n",
      "\r\n"
     ]
    }
   ],
   "source": [
    "result_6a_query_str = \"SELECT playerid, yearid, teamid, ab FROM batting WHERE ab > '500'; \"\n",
    "!psql -h localhost -d baseball -c \"explain analyze $result_6a_query_str\""
   ]
  },
  {
   "cell_type": "code",
   "execution_count": 138,
   "metadata": {},
   "outputs": [],
   "source": [
    "result_6a_cost = 2884\n",
    "result_6a_timing = 28.180"
   ]
  },
  {
   "cell_type": "code",
   "execution_count": 139,
   "metadata": {
    "deletable": false,
    "editable": false
   },
   "outputs": [
    {
     "data": {
      "text/html": [
       "<p><strong><pre style='display: inline;'>q6aii</pre></strong> passed!</p>"
      ],
      "text/plain": [
       "q6aii results: All test cases passed!"
      ]
     },
     "execution_count": 139,
     "metadata": {},
     "output_type": "execute_result"
    }
   ],
   "source": [
    "grader.check(\"q6aii\")"
   ]
  },
  {
   "cell_type": "markdown",
   "metadata": {},
   "source": [
    "### Question 6b:\n",
    "Cluster the `batting` table on its primary key (hint: use `\\di` to find out what name of the primary key is). We are able to directly cluster on the primary key (without first creating a separate index) because Postgres automatically creates an index for it. Re-inspect the query plan for the query from `Question 6a` and record the execution time and cost."
   ]
  },
  {
   "cell_type": "code",
   "execution_count": null,
   "metadata": {},
   "outputs": [],
   "source": []
  },
  {
   "cell_type": "code",
   "execution_count": 140,
   "metadata": {},
   "outputs": [
    {
     "name": "stdout",
     "output_type": "stream",
     "text": [
      " * postgresql://jovyan@127.0.0.1:5432/baseball\n",
      "   postgresql://jovyan@127.0.0.1:5432/postgres\n",
      "Done.\n"
     ]
    },
    {
     "data": {
      "text/plain": [
       "[]"
      ]
     },
     "execution_count": 140,
     "metadata": {},
     "output_type": "execute_result"
    }
   ],
   "source": [
    "%%sql \n",
    "CLUSTER batting USING batting_pkey; "
   ]
  },
  {
   "cell_type": "code",
   "execution_count": 141,
   "metadata": {},
   "outputs": [
    {
     "name": "stdout",
     "output_type": "stream",
     "text": [
      "                                                 QUERY PLAN                                                 \r\n",
      "------------------------------------------------------------------------------------------------------------\r\n",
      " Seq Scan on batting  (cost=0.00..2878.05 rows=8726 width=21) (actual time=0.021..14.505 rows=8839 loops=1)\r\n",
      "   Filter: (ab > 500)\r\n",
      "   Rows Removed by Filter: 95485\r\n",
      " Planning Time: 0.475 ms\r\n",
      " Execution Time: 14.896 ms\r\n",
      "(5 rows)\r\n",
      "\r\n"
     ]
    }
   ],
   "source": [
    "!psql -h localhost -d baseball -c \"explain analyze $result_6a_query_str\""
   ]
  },
  {
   "cell_type": "code",
   "execution_count": 142,
   "metadata": {},
   "outputs": [],
   "source": [
    "result_6b_cost = 2878\n",
    "result_6b_timing = 6.3"
   ]
  },
  {
   "cell_type": "code",
   "execution_count": 143,
   "metadata": {
    "deletable": false,
    "editable": false
   },
   "outputs": [
    {
     "data": {
      "text/html": [
       "<p><strong><pre style='display: inline;'>q6b</pre></strong> passed!</p>"
      ],
      "text/plain": [
       "q6b results: All test cases passed!"
      ]
     },
     "execution_count": 143,
     "metadata": {},
     "output_type": "execute_result"
    }
   ],
   "source": [
    "grader.check(\"q6b\")"
   ]
  },
  {
   "cell_type": "markdown",
   "metadata": {},
   "source": [
    "### Question 6c\n",
    "Now, let's try clustering the table based on another index. Create an index on `ab` column called `ab_idx` in the `batting` table AND cluster the `batting` table with this new index. Now, re-inspect the query plan and record the execution time and cost."
   ]
  },
  {
   "cell_type": "code",
   "execution_count": 144,
   "metadata": {},
   "outputs": [
    {
     "name": "stdout",
     "output_type": "stream",
     "text": [
      " * postgresql://jovyan@127.0.0.1:5432/baseball\n",
      "   postgresql://jovyan@127.0.0.1:5432/postgres\n",
      "Done.\n",
      "Done.\n"
     ]
    },
    {
     "data": {
      "text/plain": [
       "[]"
      ]
     },
     "execution_count": 144,
     "metadata": {},
     "output_type": "execute_result"
    }
   ],
   "source": [
    "%%sql \n",
    "CREATE INDEX ab_idx\n",
    "ON batting (ab);\n",
    "\n",
    "CLUSTER batting USING ab_idx; "
   ]
  },
  {
   "cell_type": "code",
   "execution_count": 145,
   "metadata": {
    "scrolled": true
   },
   "outputs": [
    {
     "name": "stdout",
     "output_type": "stream",
     "text": [
      "                                                      QUERY PLAN                                                      \r\n",
      "----------------------------------------------------------------------------------------------------------------------\r\n",
      " Bitmap Heap Scan on batting  (cost=99.92..1783.99 rows=8726 width=21) (actual time=0.314..1.996 rows=8839 loops=1)\r\n",
      "   Recheck Cond: (ab > 500)\r\n",
      "   Heap Blocks: exact=135\r\n",
      "   ->  Bitmap Index Scan on ab_idx  (cost=0.00..97.74 rows=8726 width=0) (actual time=0.283..0.284 rows=8839 loops=1)\r\n",
      "         Index Cond: (ab > 500)\r\n",
      " Planning Time: 0.600 ms\r\n",
      " Execution Time: 2.406 ms\r\n",
      "(7 rows)\r\n",
      "\r\n"
     ]
    }
   ],
   "source": [
    "!psql -h localhost -d baseball -c \"explain analyze $result_6a_query_str\""
   ]
  },
  {
   "cell_type": "code",
   "execution_count": 146,
   "metadata": {},
   "outputs": [],
   "source": [
    "result_6c_cost = 1786\n",
    "result_6c_timing = 2.421"
   ]
  },
  {
   "cell_type": "code",
   "execution_count": 147,
   "metadata": {
    "deletable": false,
    "editable": false
   },
   "outputs": [
    {
     "data": {
      "text/html": [
       "<p><strong><pre style='display: inline;'>q6c</pre></strong> passed!</p>"
      ],
      "text/plain": [
       "q6c results: All test cases passed!"
      ]
     },
     "execution_count": 147,
     "metadata": {},
     "output_type": "execute_result"
    }
   ],
   "source": [
    "grader.check(\"q6c\")"
   ]
  },
  {
   "cell_type": "markdown",
   "metadata": {
    "deletable": false,
    "editable": false
   },
   "source": [
    "### Question 6d\n",
    "Given your findings from inspecting the query plans from `Question 6a-c`, answer the following question. Assign the variable `q6d` to a list of all statements that are true.\n",
    "\n",
    "1. Consider the following statements:\n",
    "    1. Clustering based on the `ab_idx` decreased the cost of the query.\n",
    "    1. Clustering based on the `ab_idx` increased the cost of the query.\n",
    "    1. Clustering based on the `ab_idx` increased the execution time of the query.\n",
    "    1. Clustering based on the `ab_idx` decreased the execution time of the query.\n",
    "    1. Clustering based on the `batting_pkey` decreased the cost of the query.\n",
    "    1. Clustering based on the `batting_pkey` increased the cost of the query.\n",
    "    1. Clustering based on the `batting_pkey` increased the execution time of the query.\n",
    "    1. Clustering based on the `batting_pkey` decreased the execution time of the query.\n",
    "    1. None of the above\n",
    "    \n",
    "**Note:** Your answer should be formatted as follows: `q6d = ['A', 'B']`\n",
    "\n",
    "<!--\n",
    "BEGIN QUESTION\n",
    "name: q6d\n",
    "points: 2\n",
    "-->"
   ]
  },
  {
   "cell_type": "code",
   "execution_count": 148,
   "metadata": {},
   "outputs": [],
   "source": [
    "q6d = ['A','D']"
   ]
  },
  {
   "cell_type": "code",
   "execution_count": 149,
   "metadata": {
    "deletable": false,
    "editable": false
   },
   "outputs": [
    {
     "data": {
      "text/html": [
       "<p><strong><pre style='display: inline;'>q6d</pre></strong> passed!</p>"
      ],
      "text/plain": [
       "q6d results: All test cases passed!"
      ]
     },
     "execution_count": 149,
     "metadata": {},
     "output_type": "execute_result"
    }
   ],
   "source": [
    "grader.check(\"q6d\")"
   ]
  },
  {
   "cell_type": "markdown",
   "metadata": {
    "deletable": false,
    "editable": false
   },
   "source": [
    "<!-- BEGIN QUESTION -->\n",
    "\n",
    "### Question 6e:\n",
    "\n",
    "Explain your answer to the previous part based on your knowledge from lectures, and your inspection of the query plans (your explanation should include why you didn't choose certain options).\n",
    "\n",
    "<!--\n",
    "BEGIN QUESTION\n",
    "name: q6e\n",
    "manual: true\n",
    "points: 2\n",
    "-->"
   ]
  },
  {
   "cell_type": "markdown",
   "metadata": {},
   "source": [
    "As the filter was applyed on the colum 'ab', applying an index on ab makes the system more faster and efficient, however as batting_pkey isn't used for the filter applying an index on that does not make any differnce to the result. "
   ]
  },
  {
   "cell_type": "markdown",
   "metadata": {},
   "source": [
    "<!-- END QUESTION -->\n",
    "\n",
    "\n",
    "\n",
    "## Question 7: Cost of Index Management\n",
    "Until now, we have seen the positive potential impact that indexes can have on query performance, but remember in real world technologies/applications, we will be routinely receiving new data (and in large quantities) which would trigger regular updates to our tables. In this section, we will dive into the cost of managing the indexes that we create.\n",
    "\n",
    "### Question 7a:\n",
    "Record the time it takes to insert 300,000 rows into the `salaries` table when no additional index is configured."
   ]
  },
  {
   "cell_type": "markdown",
   "metadata": {},
   "source": [
    "Run the following cell to setup a column to track which rows we added as part of these inserts."
   ]
  },
  {
   "cell_type": "code",
   "execution_count": 150,
   "metadata": {},
   "outputs": [
    {
     "name": "stdout",
     "output_type": "stream",
     "text": [
      " * postgresql://jovyan@127.0.0.1:5432/baseball\n",
      "   postgresql://jovyan@127.0.0.1:5432/postgres\n",
      "Done.\n"
     ]
    },
    {
     "data": {
      "text/plain": [
       "[]"
      ]
     },
     "execution_count": 150,
     "metadata": {},
     "output_type": "execute_result"
    }
   ],
   "source": [
    "%sql ALTER TABLE salaries ADD added boolean DEFAULT False;"
   ]
  },
  {
   "cell_type": "markdown",
   "metadata": {},
   "source": [
    "Next, run the provided update script and record the **wall time**.\n",
    "\n",
    "**NOTE:** Running the below cell multiple times may result in an error, unless you first delete the rows with the cell given at the end of this subpart."
   ]
  },
  {
   "cell_type": "code",
   "execution_count": 151,
   "metadata": {},
   "outputs": [
    {
     "name": "stdout",
     "output_type": "stream",
     "text": [
      " * postgresql://jovyan@127.0.0.1:5432/baseball\n",
      "   postgresql://jovyan@127.0.0.1:5432/postgres\n",
      "Done.\n",
      "CPU times: user 4.23 ms, sys: 2.11 ms, total: 6.34 ms\n",
      "Wall time: 3.61 s\n"
     ]
    },
    {
     "data": {
      "text/plain": [
       "[]"
      ]
     },
     "execution_count": 151,
     "metadata": {},
     "output_type": "execute_result"
    }
   ],
   "source": [
    "%%time\n",
    "%%sql\n",
    "DO $$\n",
    " DECLARE counter INTEGER := 1;\n",
    " BEGIN\n",
    "     FOR counter IN 100001..400000 LOOP\n",
    "     INSERT INTO salaries (yearid, teamid, lgid, playerid, salary, added)\n",
    "         VALUES (2021, 'ATL', 'NL', 'p' || counter, RANDOM() * 1000000, true);\n",
    "     END LOOP;\n",
    "END;\n",
    "$$;"
   ]
  },
  {
   "cell_type": "code",
   "execution_count": 152,
   "metadata": {},
   "outputs": [],
   "source": [
    "result_7a_timing = 3.79"
   ]
  },
  {
   "cell_type": "code",
   "execution_count": 153,
   "metadata": {
    "deletable": false,
    "editable": false
   },
   "outputs": [
    {
     "data": {
      "text/html": [
       "<p><strong><pre style='display: inline;'>q7a</pre></strong> passed!</p>"
      ],
      "text/plain": [
       "q7a results: All test cases passed!"
      ]
     },
     "execution_count": 153,
     "metadata": {},
     "output_type": "execute_result"
    }
   ],
   "source": [
    "grader.check(\"q7a\")"
   ]
  },
  {
   "cell_type": "markdown",
   "metadata": {},
   "source": [
    "Before adding an index to the salaries table and re-timing the updates, delete all the rows that were added to the table from the update script."
   ]
  },
  {
   "cell_type": "code",
   "execution_count": 154,
   "metadata": {},
   "outputs": [
    {
     "name": "stdout",
     "output_type": "stream",
     "text": [
      " * postgresql://jovyan@127.0.0.1:5432/baseball\n",
      "   postgresql://jovyan@127.0.0.1:5432/postgres\n",
      "300000 rows affected.\n"
     ]
    },
    {
     "data": {
      "text/plain": [
       "[]"
      ]
     },
     "execution_count": 154,
     "metadata": {},
     "output_type": "execute_result"
    }
   ],
   "source": [
    "%%sql\n",
    "DELETE FROM salaries\n",
    "WHERE added = 'true';"
   ]
  },
  {
   "cell_type": "markdown",
   "metadata": {},
   "source": [
    "### Question 7b:\n",
    "Now, create an index on the `salary` column and record the **wall time** after executing the update script."
   ]
  },
  {
   "cell_type": "code",
   "execution_count": 155,
   "metadata": {},
   "outputs": [
    {
     "name": "stdout",
     "output_type": "stream",
     "text": [
      " * postgresql://jovyan@127.0.0.1:5432/baseball\n",
      "   postgresql://jovyan@127.0.0.1:5432/postgres\n",
      "Done.\n"
     ]
    },
    {
     "data": {
      "text/plain": [
       "[]"
      ]
     },
     "execution_count": 155,
     "metadata": {},
     "output_type": "execute_result"
    }
   ],
   "source": [
    "%%sql \n",
    "CREATE INDEX salary_idx\n",
    "ON salaries (salary); "
   ]
  },
  {
   "cell_type": "markdown",
   "metadata": {},
   "source": [
    "**NOTE:** Running the below cell multiple times may result in an error, unless you first delete the rows with the cell given at the end of last subpart."
   ]
  },
  {
   "cell_type": "code",
   "execution_count": 156,
   "metadata": {},
   "outputs": [
    {
     "name": "stdout",
     "output_type": "stream",
     "text": [
      " * postgresql://jovyan@127.0.0.1:5432/baseball\n",
      "   postgresql://jovyan@127.0.0.1:5432/postgres\n",
      "Done.\n",
      "CPU times: user 5.87 ms, sys: 1.72 ms, total: 7.6 ms\n",
      "Wall time: 6.46 s\n"
     ]
    },
    {
     "data": {
      "text/plain": [
       "[]"
      ]
     },
     "execution_count": 156,
     "metadata": {},
     "output_type": "execute_result"
    }
   ],
   "source": [
    "%%time\n",
    "%%sql\n",
    "DO $$\n",
    " DECLARE counter INTEGER := 1;\n",
    " BEGIN\n",
    "     FOR counter IN 100001..400000 LOOP\n",
    "     INSERT INTO salaries (yearid, teamid, lgid, playerid, salary, added)\n",
    "         VALUES (2021, 'ATL', 'NL', 'p' || counter, RANDOM() * 1000000, true);\n",
    "     END LOOP;\n",
    "END;\n",
    "$$;"
   ]
  },
  {
   "cell_type": "code",
   "execution_count": 157,
   "metadata": {},
   "outputs": [],
   "source": [
    "result_7b_timing = 5.59"
   ]
  },
  {
   "cell_type": "code",
   "execution_count": 158,
   "metadata": {
    "deletable": false,
    "editable": false
   },
   "outputs": [
    {
     "data": {
      "text/html": [
       "<p><strong><pre style='display: inline;'>q7b</pre></strong> passed!</p>"
      ],
      "text/plain": [
       "q7b results: All test cases passed!"
      ]
     },
     "execution_count": 158,
     "metadata": {},
     "output_type": "execute_result"
    }
   ],
   "source": [
    "grader.check(\"q7b\")"
   ]
  },
  {
   "cell_type": "markdown",
   "metadata": {
    "deletable": false,
    "editable": false
   },
   "source": [
    "<!-- BEGIN QUESTION -->\n",
    "\n",
    "### Question 7c:\n",
    "What difference did you notice when you added an index into the salaries table and re-timed the update? Why do you think it happened?\n",
    "\n",
    "<!--\n",
    "BEGIN QUESTION\n",
    "name: q7c\n",
    "manual: true\n",
    "points: 2\n",
    "-->"
   ]
  },
  {
   "cell_type": "markdown",
   "metadata": {},
   "source": [
    "Each time we add an index, the system takes up time to sort the rows accordingly - however, if an index is added unnecessarily the time taken actually increases because of redundant processing hence slowing down the system. "
   ]
  },
  {
   "cell_type": "markdown",
   "metadata": {
    "deletable": false,
    "editable": false
   },
   "source": [
    "<!-- END QUESTION -->\n",
    "\n",
    "<!-- BEGIN QUESTION -->\n",
    "\n",
    "## Question 8: Takeaway\n",
    "\n",
    "In this project, we explored how the database system optimizes query execution and how users can futher tune the performance of their queries.\n",
    "\n",
    "Familiarizing yourself with these optimization and tuning methods will make you a better data engineer. In this question, we'll ask you to recall and summarize these concepts. Who knows? Maybe one day it will help you during an interview or on a project.\n",
    "\n",
    "In the following answer cell,\n",
    "1. Name 3 methods you learned in this project. The method can be either the optimization done by the database system, or the fine tuning done by the user.\n",
    "2. For each method, summarize how and why it can optimize query performance. Feel free to discuss any drawbacks, if applicable.\n",
    "\n",
    "<!--\n",
    "BEGIN QUESTION\n",
    "name: q8\n",
    "manual: true\n",
    "points: 6\n",
    "-->"
   ]
  },
  {
   "cell_type": "markdown",
   "metadata": {},
   "source": [
    "1. Indexing: The above examples showed how indexes can drastically reduce the time taken and make the process more efficient by sorting the rows and allowing the system to target the required data. For instance, the MIN and MAX functions are faster with indexing. However, indexing can also be redundant if the functions are not relevant and can increase the time taken. \n",
    "\n",
    "2. Using Filters: Using filters can help specify the information required and reduce time before the join operations.\n",
    "\n",
    "3. Clustering: Allows us to index to groups and to minimize the time taken to return data. "
   ]
  },
  {
   "cell_type": "markdown",
   "metadata": {},
   "source": [
    "<!-- END QUESTION -->\n",
    "\n",
    "\n",
    "\n",
    "## Congratulations! You have finished Project 2.\n",
    "\n",
    "Run the following cell to zip and download the results of your queries. You will also need to run the export cell at the end of the notebook.\n",
    "\n",
    "**Please save your notebook before exporting (this is a good time to do it!)** Otherwise, we may not be able to register your written responses.\n",
    "\n",
    "**For submission on Gradescope, you will need to submit BOTH the proj2.zip file genreated by the export cell and the results.zip file generated by the following cell.**\n",
    "\n",
    "**Common submission issues:** You MUST submit the generated zip files (not folders) to the autograder. However, Safari is known to automatically unzip files upon downloading. You can fix this by going into Safari preferences, and deselect the box with the text \"Open safe files after downloading\" under the \"General\" tab. If you experience issues with downloading via clicking on the link, you can also navigate to the project 2 directory within JupyterHub (remove `proj2.ipynb` from the url), and manually download the generated zip files. Please post on Ed if you encounter any other submission issues."
   ]
  },
  {
   "cell_type": "code",
   "execution_count": 159,
   "metadata": {
    "scrolled": true
   },
   "outputs": [
    {
     "name": "stdout",
     "output_type": "stream",
     "text": [
      "updating: results/ (stored 0%)\r\n",
      "updating: results/result_1a.csv (deflated 53%)\r\n",
      "updating: results/result_1c.csv (deflated 64%)\r\n",
      "updating: results/result_4a.csv (deflated 59%)\r\n",
      "updating: results/result_4ei.csv (deflated 62%)\r\n",
      "updating: results/result_4eiii.csv (deflated 64%)\r\n",
      "updating: results/result_6a.csv (deflated 72%)\r\n",
      "updating: results/result_1di_view.csv (deflated 37%)\r\n",
      "updating: results/result_1di_no_view.csv (deflated 37%)\r\n",
      "updating: results/result_1ei.csv (deflated 64%)\r\n",
      "updating: results/result_1eii.csv (deflated 37%)\r\n"
     ]
    },
    {
     "data": {
      "text/html": [
       "Click here to download: <a href='./results.zip' target='_blank'>./results.zip</a><br>"
      ],
      "text/plain": [
       "/home/jovyan/fa22/proj/proj2/results.zip"
      ]
     },
     "metadata": {},
     "output_type": "display_data"
    }
   ],
   "source": [
    "from IPython.display import display, FileLink\n",
    "\n",
    "!zip -r results.zip results\n",
    "results_file = FileLink('./results.zip', result_html_prefix=\"Click here to download: \")\n",
    "display(results_file)"
   ]
  },
  {
   "cell_type": "markdown",
   "metadata": {
    "deletable": false,
    "editable": false
   },
   "source": [
    "---\n",
    "\n",
    "To double-check your work, the cell below will rerun all of the autograder tests."
   ]
  },
  {
   "cell_type": "code",
   "execution_count": 160,
   "metadata": {
    "deletable": false,
    "editable": false
   },
   "outputs": [
    {
     "data": {
      "text/plain": [
       "q0 results: All test cases passed!\n",
       "\n",
       "q1a results: All test cases passed!\n",
       "\n",
       "q1bi results: All test cases passed!\n",
       "\n",
       "q1bii results: All test cases passed!\n",
       "\n",
       "q1c results: All test cases passed!\n",
       "\n",
       "q1di results: All test cases passed!\n",
       "\n",
       "q1dii results: All test cases passed!\n",
       "\n",
       "q1ei results: All test cases passed!\n",
       "\n",
       "q1eii results: All test cases passed!\n",
       "\n",
       "q1eiii results: All test cases passed!\n",
       "\n",
       "q1eiv results: All test cases passed!\n",
       "\n",
       "q2a results: All test cases passed!\n",
       "\n",
       "q2b results: All test cases passed!\n",
       "\n",
       "q2c results: All test cases passed!\n",
       "\n",
       "q3a results: All test cases passed!\n",
       "\n",
       "q3b results: All test cases passed!\n",
       "\n",
       "q3c results: All test cases passed!\n",
       "\n",
       "q4ai results: All test cases passed!\n",
       "\n",
       "q4aii results: All test cases passed!\n",
       "\n",
       "q4b results: All test cases passed!\n",
       "\n",
       "q4c results: All test cases passed!\n",
       "\n",
       "q4di results: All test cases passed!\n",
       "\n",
       "q4ei_part1 results: All test cases passed!\n",
       "\n",
       "q4ei_part2 results: All test cases passed!\n",
       "\n",
       "q4eii results: All test cases passed!\n",
       "\n",
       "q4eiii_part1 results: All test cases passed!\n",
       "\n",
       "q4eiii_part2 results: All test cases passed!\n",
       "\n",
       "q4eiv results: All test cases passed!\n",
       "\n",
       "q4ev results: All test cases passed!\n",
       "\n",
       "q4evi results: All test cases passed!\n",
       "\n",
       "q5ai results: All test cases passed!\n",
       "\n",
       "q5aii results: All test cases passed!\n",
       "\n",
       "q5bi results: All test cases passed!\n",
       "\n",
       "q5bii results: All test cases passed!\n",
       "\n",
       "q5c results: All test cases passed!\n",
       "\n",
       "q6ai results: All test cases passed!\n",
       "\n",
       "q6aii results: All test cases passed!\n",
       "\n",
       "q6b results: All test cases passed!\n",
       "\n",
       "q6c results: All test cases passed!\n",
       "\n",
       "q6d results: All test cases passed!\n",
       "\n",
       "q7a results: All test cases passed!\n",
       "\n",
       "q7b results: All test cases passed!"
      ]
     },
     "execution_count": 160,
     "metadata": {},
     "output_type": "execute_result"
    }
   ],
   "source": [
    "grader.check_all()"
   ]
  },
  {
   "cell_type": "markdown",
   "metadata": {
    "deletable": false,
    "editable": false
   },
   "source": [
    "## Submission\n",
    "\n",
    "Make sure you have run all cells in your notebook in order before running the cell below, so that all images/graphs appear in the output. The cell below will generate a zip file for you to submit. **Please save before exporting!**"
   ]
  },
  {
   "cell_type": "code",
   "execution_count": 161,
   "metadata": {
    "deletable": false,
    "editable": false
   },
   "outputs": [
    {
     "data": {
      "text/html": [
       "\n",
       "            <p>Your submission has been exported. Click <a href=\"proj2_2022_10_07T20_07_28_657973.zip\" download=\"proj2_2022_10_07T20_07_28_657973.zip\" target=\"_blank\">here</a>\n",
       "            to download the zip file.</p>\n",
       "            "
      ],
      "text/plain": [
       "<IPython.core.display.HTML object>"
      ]
     },
     "metadata": {},
     "output_type": "display_data"
    }
   ],
   "source": [
    "# Save your notebook first, then run this cell to export your submission.\n",
    "grader.export()"
   ]
  },
  {
   "cell_type": "markdown",
   "metadata": {},
   "source": [
    " "
   ]
  }
 ],
 "metadata": {
  "kernelspec": {
   "display_name": "Python 3 (ipykernel)",
   "language": "python",
   "name": "python3"
  },
  "language_info": {
   "codemirror_mode": {
    "name": "ipython",
    "version": 3
   },
   "file_extension": ".py",
   "mimetype": "text/x-python",
   "name": "python",
   "nbconvert_exporter": "python",
   "pygments_lexer": "ipython3",
   "version": "3.9.13"
  }
 },
 "nbformat": 4,
 "nbformat_minor": 4
}
